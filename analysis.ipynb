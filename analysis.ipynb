{
 "cells": [
  {
   "cell_type": "markdown",
   "metadata": {},
   "source": [
    "# Data Analysis"
   ]
  },
  {
   "cell_type": "code",
   "execution_count": 30,
   "metadata": {},
   "outputs": [],
   "source": [
    "import os\n",
    "import matplotlib.pyplot as plt\n",
    "import pandas as pd\n",
    "import numpy as np"
   ]
  },
  {
   "cell_type": "code",
   "execution_count": 31,
   "metadata": {},
   "outputs": [
    {
     "data": {
      "text/html": [
       "<div>\n",
       "<style scoped>\n",
       "    .dataframe tbody tr th:only-of-type {\n",
       "        vertical-align: middle;\n",
       "    }\n",
       "\n",
       "    .dataframe tbody tr th {\n",
       "        vertical-align: top;\n",
       "    }\n",
       "\n",
       "    .dataframe thead th {\n",
       "        text-align: right;\n",
       "    }\n",
       "</style>\n",
       "<table border=\"1\" class=\"dataframe\">\n",
       "  <thead>\n",
       "    <tr style=\"text-align: right;\">\n",
       "      <th></th>\n",
       "      <th>PID</th>\n",
       "      <th>Starting Interruption</th>\n",
       "      <th>Starting Task</th>\n",
       "      <th>Condition</th>\n",
       "      <th>Control</th>\n",
       "      <th>d_age</th>\n",
       "      <th>d_gender</th>\n",
       "      <th>d_education</th>\n",
       "      <th>d_asd</th>\n",
       "      <th>d_colorblind</th>\n",
       "      <th>...</th>\n",
       "      <th>te_p_count</th>\n",
       "      <th>te_p_correctness</th>\n",
       "      <th>te_p_time</th>\n",
       "      <th>te_p_times</th>\n",
       "      <th>te_p_percentage</th>\n",
       "      <th>te_p_percentage100</th>\n",
       "      <th>te_p_resumption</th>\n",
       "      <th>te_p_resumptions</th>\n",
       "      <th>te_p_interruptions</th>\n",
       "      <th>te_p_movestotal</th>\n",
       "    </tr>\n",
       "  </thead>\n",
       "  <tbody>\n",
       "    <tr>\n",
       "      <th>0</th>\n",
       "      <td>150657-543833</td>\n",
       "      <td>1</td>\n",
       "      <td>1</td>\n",
       "      <td>1</td>\n",
       "      <td>1</td>\n",
       "      <td>36</td>\n",
       "      <td>Female</td>\n",
       "      <td>University</td>\n",
       "      <td>False</td>\n",
       "      <td>False</td>\n",
       "      <td>...</td>\n",
       "      <td>16</td>\n",
       "      <td>13.25</td>\n",
       "      <td>15.582868</td>\n",
       "      <td>[0.828125, 1.0, 0.96875, 0.96875, 0.640625, 0....</td>\n",
       "      <td>0.828125</td>\n",
       "      <td>0.8125</td>\n",
       "      <td>17.367742</td>\n",
       "      <td>[10.3176, 19.26643, 14.28441, 15.3505, 8.26959...</td>\n",
       "      <td>NaN</td>\n",
       "      <td>NaN</td>\n",
       "    </tr>\n",
       "    <tr>\n",
       "      <th>1</th>\n",
       "      <td>189842-198434</td>\n",
       "      <td>1</td>\n",
       "      <td>1</td>\n",
       "      <td>1</td>\n",
       "      <td>1</td>\n",
       "      <td>25</td>\n",
       "      <td>Female</td>\n",
       "      <td>University</td>\n",
       "      <td>False</td>\n",
       "      <td>False</td>\n",
       "      <td>...</td>\n",
       "      <td>16</td>\n",
       "      <td>16.00</td>\n",
       "      <td>9.153442</td>\n",
       "      <td>[0.828125, 1.0, 0.96875, 0.96875, 0.640625, 0....</td>\n",
       "      <td>1.000000</td>\n",
       "      <td>1.0000</td>\n",
       "      <td>9.153442</td>\n",
       "      <td>[8.934598, 8.7303, 15.23631, 10.87219, 6.22189...</td>\n",
       "      <td>NaN</td>\n",
       "      <td>NaN</td>\n",
       "    </tr>\n",
       "    <tr>\n",
       "      <th>2</th>\n",
       "      <td>285256-429012</td>\n",
       "      <td>1</td>\n",
       "      <td>1</td>\n",
       "      <td>1</td>\n",
       "      <td>1</td>\n",
       "      <td>27</td>\n",
       "      <td>Male</td>\n",
       "      <td>High School</td>\n",
       "      <td>False</td>\n",
       "      <td>False</td>\n",
       "      <td>...</td>\n",
       "      <td>16</td>\n",
       "      <td>15.50</td>\n",
       "      <td>6.216273</td>\n",
       "      <td>[0.828125, 1.0, 0.96875, 0.96875, 0.640625, 0....</td>\n",
       "      <td>0.968750</td>\n",
       "      <td>0.9375</td>\n",
       "      <td>6.633005</td>\n",
       "      <td>[5.776597, 13.51637, 6.810495, 5.625495, 5.892...</td>\n",
       "      <td>NaN</td>\n",
       "      <td>NaN</td>\n",
       "    </tr>\n",
       "    <tr>\n",
       "      <th>3</th>\n",
       "      <td>486637-941302</td>\n",
       "      <td>1</td>\n",
       "      <td>1</td>\n",
       "      <td>1</td>\n",
       "      <td>1</td>\n",
       "      <td>27</td>\n",
       "      <td>Male</td>\n",
       "      <td>University</td>\n",
       "      <td>False</td>\n",
       "      <td>False</td>\n",
       "      <td>...</td>\n",
       "      <td>16</td>\n",
       "      <td>15.50</td>\n",
       "      <td>8.996853</td>\n",
       "      <td>[0.828125, 1.0, 0.96875, 0.96875, 0.640625, 0....</td>\n",
       "      <td>0.968750</td>\n",
       "      <td>0.9375</td>\n",
       "      <td>9.272375</td>\n",
       "      <td>[7.770398, 11.45151, 7.735799, 6.586198, 10.07...</td>\n",
       "      <td>NaN</td>\n",
       "      <td>NaN</td>\n",
       "    </tr>\n",
       "    <tr>\n",
       "      <th>4</th>\n",
       "      <td>522111-792046</td>\n",
       "      <td>1</td>\n",
       "      <td>1</td>\n",
       "      <td>1</td>\n",
       "      <td>1</td>\n",
       "      <td>24</td>\n",
       "      <td>Male</td>\n",
       "      <td>Masters</td>\n",
       "      <td>False</td>\n",
       "      <td>False</td>\n",
       "      <td>...</td>\n",
       "      <td>16</td>\n",
       "      <td>10.25</td>\n",
       "      <td>10.141496</td>\n",
       "      <td>[0.828125, 1.0, 0.96875, 0.96875, 0.640625, 0....</td>\n",
       "      <td>0.640625</td>\n",
       "      <td>0.4375</td>\n",
       "      <td>10.067041</td>\n",
       "      <td>[12.67211, 15.00682, 12.10811, 9.307809, 10.55...</td>\n",
       "      <td>NaN</td>\n",
       "      <td>NaN</td>\n",
       "    </tr>\n",
       "    <tr>\n",
       "      <th>...</th>\n",
       "      <td>...</td>\n",
       "      <td>...</td>\n",
       "      <td>...</td>\n",
       "      <td>...</td>\n",
       "      <td>...</td>\n",
       "      <td>...</td>\n",
       "      <td>...</td>\n",
       "      <td>...</td>\n",
       "      <td>...</td>\n",
       "      <td>...</td>\n",
       "      <td>...</td>\n",
       "      <td>...</td>\n",
       "      <td>...</td>\n",
       "      <td>...</td>\n",
       "      <td>...</td>\n",
       "      <td>...</td>\n",
       "      <td>...</td>\n",
       "      <td>...</td>\n",
       "      <td>...</td>\n",
       "      <td>...</td>\n",
       "      <td>...</td>\n",
       "    </tr>\n",
       "    <tr>\n",
       "      <th>252</th>\n",
       "      <td>883881-672590</td>\n",
       "      <td>2</td>\n",
       "      <td>2</td>\n",
       "      <td>2</td>\n",
       "      <td>0</td>\n",
       "      <td>19</td>\n",
       "      <td>Male</td>\n",
       "      <td>High School</td>\n",
       "      <td>False</td>\n",
       "      <td>False</td>\n",
       "      <td>...</td>\n",
       "      <td>16</td>\n",
       "      <td>NaN</td>\n",
       "      <td>242.962203</td>\n",
       "      <td>15.18513771</td>\n",
       "      <td>NaN</td>\n",
       "      <td>NaN</td>\n",
       "      <td>1.070318</td>\n",
       "      <td>[2.0045, 1.3836, 0.6834001, 0.9342001, 0.951, ...</td>\n",
       "      <td>227.0</td>\n",
       "      <td>14.1875</td>\n",
       "    </tr>\n",
       "    <tr>\n",
       "      <th>253</th>\n",
       "      <td>901440-351171</td>\n",
       "      <td>2</td>\n",
       "      <td>2</td>\n",
       "      <td>2</td>\n",
       "      <td>0</td>\n",
       "      <td>19</td>\n",
       "      <td>Female</td>\n",
       "      <td>High School</td>\n",
       "      <td>False</td>\n",
       "      <td>False</td>\n",
       "      <td>...</td>\n",
       "      <td>16</td>\n",
       "      <td>NaN</td>\n",
       "      <td>366.414080</td>\n",
       "      <td>22.90088</td>\n",
       "      <td>NaN</td>\n",
       "      <td>NaN</td>\n",
       "      <td>1.246306</td>\n",
       "      <td>[2.604299, 1.3343, 0.7325999, 0.6843, 0.715799...</td>\n",
       "      <td>294.0</td>\n",
       "      <td>18.3750</td>\n",
       "    </tr>\n",
       "    <tr>\n",
       "      <th>254</th>\n",
       "      <td>913584-192754</td>\n",
       "      <td>2</td>\n",
       "      <td>2</td>\n",
       "      <td>2</td>\n",
       "      <td>0</td>\n",
       "      <td>25</td>\n",
       "      <td>Female</td>\n",
       "      <td>Masters</td>\n",
       "      <td>False</td>\n",
       "      <td>False</td>\n",
       "      <td>...</td>\n",
       "      <td>16</td>\n",
       "      <td>NaN</td>\n",
       "      <td>468.229890</td>\n",
       "      <td>29.26436813</td>\n",
       "      <td>NaN</td>\n",
       "      <td>NaN</td>\n",
       "      <td>1.984025</td>\n",
       "      <td>[4.927498, 2.3661, 1.5031, 1.5705, 1.5157, 1.1...</td>\n",
       "      <td>236.0</td>\n",
       "      <td>14.7500</td>\n",
       "    </tr>\n",
       "    <tr>\n",
       "      <th>255</th>\n",
       "      <td>967476-330431</td>\n",
       "      <td>2</td>\n",
       "      <td>2</td>\n",
       "      <td>2</td>\n",
       "      <td>0</td>\n",
       "      <td>25</td>\n",
       "      <td>Male</td>\n",
       "      <td>University</td>\n",
       "      <td>False</td>\n",
       "      <td>False</td>\n",
       "      <td>...</td>\n",
       "      <td>16</td>\n",
       "      <td>NaN</td>\n",
       "      <td>371.182687</td>\n",
       "      <td>23.19891793</td>\n",
       "      <td>NaN</td>\n",
       "      <td>NaN</td>\n",
       "      <td>1.734499</td>\n",
       "      <td>[6.857299, 2.711, 1.1996, 1.0274, 1.2185, 1.57...</td>\n",
       "      <td>214.0</td>\n",
       "      <td>13.3750</td>\n",
       "    </tr>\n",
       "    <tr>\n",
       "      <th>256</th>\n",
       "      <td>991710-413328</td>\n",
       "      <td>2</td>\n",
       "      <td>2</td>\n",
       "      <td>2</td>\n",
       "      <td>0</td>\n",
       "      <td>45</td>\n",
       "      <td>Male</td>\n",
       "      <td>University</td>\n",
       "      <td>False</td>\n",
       "      <td>False</td>\n",
       "      <td>...</td>\n",
       "      <td>16</td>\n",
       "      <td>NaN</td>\n",
       "      <td>277.406090</td>\n",
       "      <td>17.33788061</td>\n",
       "      <td>NaN</td>\n",
       "      <td>NaN</td>\n",
       "      <td>1.401041</td>\n",
       "      <td>[4.350599, 0.9829001, 1.432201, 0.6998002, 0.8...</td>\n",
       "      <td>198.0</td>\n",
       "      <td>12.3750</td>\n",
       "    </tr>\n",
       "  </tbody>\n",
       "</table>\n",
       "<p>257 rows × 80 columns</p>\n",
       "</div>"
      ],
      "text/plain": [
       "               PID  Starting Interruption  Starting Task  Condition  Control  \\\n",
       "0    150657-543833                      1              1          1        1   \n",
       "1    189842-198434                      1              1          1        1   \n",
       "2    285256-429012                      1              1          1        1   \n",
       "3    486637-941302                      1              1          1        1   \n",
       "4    522111-792046                      1              1          1        1   \n",
       "..             ...                    ...            ...        ...      ...   \n",
       "252  883881-672590                      2              2          2        0   \n",
       "253  901440-351171                      2              2          2        0   \n",
       "254  913584-192754                      2              2          2        0   \n",
       "255  967476-330431                      2              2          2        0   \n",
       "256  991710-413328                      2              2          2        0   \n",
       "\n",
       "     d_age d_gender  d_education  d_asd  d_colorblind  ...  te_p_count  \\\n",
       "0       36   Female   University  False         False  ...          16   \n",
       "1       25   Female   University  False         False  ...          16   \n",
       "2       27     Male  High School  False         False  ...          16   \n",
       "3       27     Male   University  False         False  ...          16   \n",
       "4       24     Male      Masters  False         False  ...          16   \n",
       "..     ...      ...          ...    ...           ...  ...         ...   \n",
       "252     19     Male  High School  False         False  ...          16   \n",
       "253     19   Female  High School  False         False  ...          16   \n",
       "254     25   Female      Masters  False         False  ...          16   \n",
       "255     25     Male   University  False         False  ...          16   \n",
       "256     45     Male   University  False         False  ...          16   \n",
       "\n",
       "     te_p_correctness   te_p_time  \\\n",
       "0               13.25   15.582868   \n",
       "1               16.00    9.153442   \n",
       "2               15.50    6.216273   \n",
       "3               15.50    8.996853   \n",
       "4               10.25   10.141496   \n",
       "..                ...         ...   \n",
       "252               NaN  242.962203   \n",
       "253               NaN  366.414080   \n",
       "254               NaN  468.229890   \n",
       "255               NaN  371.182687   \n",
       "256               NaN  277.406090   \n",
       "\n",
       "                                            te_p_times te_p_percentage  \\\n",
       "0    [0.828125, 1.0, 0.96875, 0.96875, 0.640625, 0....        0.828125   \n",
       "1    [0.828125, 1.0, 0.96875, 0.96875, 0.640625, 0....        1.000000   \n",
       "2    [0.828125, 1.0, 0.96875, 0.96875, 0.640625, 0....        0.968750   \n",
       "3    [0.828125, 1.0, 0.96875, 0.96875, 0.640625, 0....        0.968750   \n",
       "4    [0.828125, 1.0, 0.96875, 0.96875, 0.640625, 0....        0.640625   \n",
       "..                                                 ...             ...   \n",
       "252                                        15.18513771             NaN   \n",
       "253                                           22.90088             NaN   \n",
       "254                                        29.26436813             NaN   \n",
       "255                                        23.19891793             NaN   \n",
       "256                                        17.33788061             NaN   \n",
       "\n",
       "     te_p_percentage100  te_p_resumption  \\\n",
       "0                0.8125        17.367742   \n",
       "1                1.0000         9.153442   \n",
       "2                0.9375         6.633005   \n",
       "3                0.9375         9.272375   \n",
       "4                0.4375        10.067041   \n",
       "..                  ...              ...   \n",
       "252                 NaN         1.070318   \n",
       "253                 NaN         1.246306   \n",
       "254                 NaN         1.984025   \n",
       "255                 NaN         1.734499   \n",
       "256                 NaN         1.401041   \n",
       "\n",
       "                                      te_p_resumptions  te_p_interruptions  \\\n",
       "0    [10.3176, 19.26643, 14.28441, 15.3505, 8.26959...                 NaN   \n",
       "1    [8.934598, 8.7303, 15.23631, 10.87219, 6.22189...                 NaN   \n",
       "2    [5.776597, 13.51637, 6.810495, 5.625495, 5.892...                 NaN   \n",
       "3    [7.770398, 11.45151, 7.735799, 6.586198, 10.07...                 NaN   \n",
       "4    [12.67211, 15.00682, 12.10811, 9.307809, 10.55...                 NaN   \n",
       "..                                                 ...                 ...   \n",
       "252  [2.0045, 1.3836, 0.6834001, 0.9342001, 0.951, ...               227.0   \n",
       "253  [2.604299, 1.3343, 0.7325999, 0.6843, 0.715799...               294.0   \n",
       "254  [4.927498, 2.3661, 1.5031, 1.5705, 1.5157, 1.1...               236.0   \n",
       "255  [6.857299, 2.711, 1.1996, 1.0274, 1.2185, 1.57...               214.0   \n",
       "256  [4.350599, 0.9829001, 1.432201, 0.6998002, 0.8...               198.0   \n",
       "\n",
       "     te_p_movestotal  \n",
       "0                NaN  \n",
       "1                NaN  \n",
       "2                NaN  \n",
       "3                NaN  \n",
       "4                NaN  \n",
       "..               ...  \n",
       "252          14.1875  \n",
       "253          18.3750  \n",
       "254          14.7500  \n",
       "255          13.3750  \n",
       "256          12.3750  \n",
       "\n",
       "[257 rows x 80 columns]"
      ]
     },
     "execution_count": 31,
     "metadata": {},
     "output_type": "execute_result"
    }
   ],
   "source": [
    "df = pd.read_csv(\"DataResults/final.csv\")\n",
    "df = df.iloc[: , 1:]\n",
    "df"
   ]
  },
  {
   "cell_type": "markdown",
   "metadata": {},
   "source": [
    "## Format Variables"
   ]
  },
  {
   "cell_type": "code",
   "execution_count": 32,
   "metadata": {},
   "outputs": [
    {
     "ename": "NameError",
     "evalue": "name 'df_experimental' is not defined",
     "output_type": "error",
     "traceback": [
      "\u001b[1;31m---------------------------------------------------------------------------\u001b[0m",
      "\u001b[1;31mNameError\u001b[0m                                 Traceback (most recent call last)",
      "\u001b[1;32m<ipython-input-32-2a8bac3d76ab>\u001b[0m in \u001b[0;36m<module>\u001b[1;34m\u001b[0m\n\u001b[0;32m      2\u001b[0m \u001b[1;31m# gender --> Male = 0, Female = 1, else = -1\u001b[0m\u001b[1;33m\u001b[0m\u001b[1;33m\u001b[0m\u001b[1;33m\u001b[0m\u001b[0m\n\u001b[0;32m      3\u001b[0m \u001b[1;33m\u001b[0m\u001b[0m\n\u001b[1;32m----> 4\u001b[1;33m df_demographics = df_experimental[[\n\u001b[0m\u001b[0;32m      5\u001b[0m     \u001b[1;34m'd_age'\u001b[0m\u001b[1;33m,\u001b[0m \u001b[1;34m'd_gender'\u001b[0m\u001b[1;33m\u001b[0m\u001b[1;33m\u001b[0m\u001b[0m\n\u001b[0;32m      6\u001b[0m ]]\n",
      "\u001b[1;31mNameError\u001b[0m: name 'df_experimental' is not defined"
     ]
    }
   ],
   "source": [
    "# df_experimental.replace({'N/A':1}) # hanoi accuracy and completeness is always 100%\n",
    "# gender --> Male = 0, Female = 1, else = -1\n",
    "\n",
    "df_demographics = df_experimental[[\n",
    "    'd_age', 'd_gender'\n",
    "]]\n",
    "\n",
    "df_data = df_experimental[[\n",
    "    'a_p_count', 'tr_p_count', 'te_p_count',\n",
    "    'a_p_percentage', 'tr_p_percentage', 'te_p_percentage',\n",
    "    'a_p_percentage100', 'tr_p_percentage100', 'te_p_percentage100',\n",
    "    'a_p_time', 'tr_p_time', 'te_p_time',\n",
    "    'a_p_resumption', 'tr_p_resumption', 'te_p_resumption',\n",
    "    'a_i_count', 'tr_i_count', 'te_i_count',\n",
    "    'a_i_percentage', 'tr_i_percentage', 'te_i_percentage',\n",
    "    'a_i_time', 'tr_i_time', 'te_i_time'\n",
    "]]\n",
    "\n",
    "df_survey = df_experimental[[\n",
    "    'a_p_e_effort', 'te_p_e_effort',\n",
    "    'a_p_e_confidence', 'te_p_e_confidence',\n",
    "    'a_i_e_effort', 'te_i_e_effort',\n",
    "    'a_i_e_confidence', 'te_i_e_confidence'\n",
    "]]\n",
    "\n",
    "x_task_dummies = pd.get_dummies(df_experimental[\"Starting Task\"], prefix='task', drop_first=False)\n",
    "x_interruption_dummies = pd.get_dummies(df_experimental[\"Starting Interruption\"], prefix='interruption', drop_first=False)\n",
    "x_condition_dummies = pd.get_dummies(df_experimental[\"Condition\"], prefix='condition', drop_first=False)\n",
    "\n",
    "df_x = pd.concat((\n",
    "    df_demographics,            # does any of the demographics account for improvement in resumption lag?\n",
    "    df_data,                    # does any of the performance metrics account for improvement in resumption lag?\n",
    "    df_survey,                  # does any of the cognitive load metrics account for improvement in resumption lag?\n",
    "    x_task_dummies,             # does the starting task account for improvement in resumption lag?\n",
    "    x_interruption_dummies,     # does the starting interruption account for improvement in resumption lag?\n",
    "    x_condition_dummies         # does the condition participants are placed in account \n",
    "), axis=1)\n",
    "\n",
    "df_x"
   ]
  },
  {
   "cell_type": "code",
   "execution_count": 33,
   "metadata": {},
   "outputs": [],
   "source": [
    "# helpers for interpreting t-test statistics\n",
    "\n",
    "def is_improvement(change):\n",
    "    if (change > 0):\n",
    "        return \"increased [+]\"\n",
    "    return \"decreased [-]\"\n",
    "\n",
    "def is_significant(p):\n",
    "    if (p <= 0.005):\n",
    "        return \"extremely significantly [**]\"\n",
    "    elif (p <= 0.05):\n",
    "        return \"significantly [*]\"\n",
    "    elif (p <= 0.03):\n",
    "        return \"slightly\"\n",
    "    return \"\"\n",
    "\n",
    "def compute_improvement(col1, col2):\n",
    "    col3 = col1 - col2\n",
    "    avg = sum(col3)/len(col3)\n",
    "    t, p = stats.ttest_ind(col1, col2)\n",
    "    return t, p, avg"
   ]
  },
  {
   "cell_type": "markdown",
   "metadata": {},
   "source": [
    "## Resumption Lag"
   ]
  },
  {
   "cell_type": "code",
   "execution_count": 34,
   "metadata": {},
   "outputs": [],
   "source": [
    "from scipy import stats\n",
    "import statsmodels.api as sm"
   ]
  },
  {
   "cell_type": "markdown",
   "metadata": {},
   "source": [
    "#### Improvement in resumption lag (t-test)"
   ]
  },
  {
   "cell_type": "code",
   "execution_count": 35,
   "metadata": {},
   "outputs": [
    {
     "ename": "NameError",
     "evalue": "name 'df_experimental' is not defined",
     "output_type": "error",
     "traceback": [
      "\u001b[1;31m---------------------------------------------------------------------------\u001b[0m",
      "\u001b[1;31mNameError\u001b[0m                                 Traceback (most recent call last)",
      "\u001b[1;32m<ipython-input-35-6b81f78e9800>\u001b[0m in \u001b[0;36m<module>\u001b[1;34m\u001b[0m\n\u001b[0;32m      1\u001b[0m \u001b[1;31m# resumption lag\u001b[0m\u001b[1;33m\u001b[0m\u001b[1;33m\u001b[0m\u001b[1;33m\u001b[0m\u001b[0m\n\u001b[0;32m      2\u001b[0m t_resumption, p_resumption, diff_resumption = compute_improvement(\n\u001b[1;32m----> 3\u001b[1;33m     \u001b[0mdf_experimental\u001b[0m\u001b[1;33m[\u001b[0m\u001b[1;34m'a_p_resumption'\u001b[0m\u001b[1;33m]\u001b[0m\u001b[1;33m,\u001b[0m\u001b[1;33m\u001b[0m\u001b[1;33m\u001b[0m\u001b[0m\n\u001b[0m\u001b[0;32m      4\u001b[0m     df_experimental['te_p_resumption'])\n\u001b[0;32m      5\u001b[0m \u001b[0mprint\u001b[0m\u001b[1;33m(\u001b[0m\u001b[1;34m'\\nRESUMPTION (all): t={t}, p={p}, d={d}'\u001b[0m\u001b[1;33m.\u001b[0m\u001b[0mformat\u001b[0m\u001b[1;33m(\u001b[0m\u001b[0mt\u001b[0m\u001b[1;33m=\u001b[0m\u001b[0mt_resumption\u001b[0m\u001b[1;33m,\u001b[0m \u001b[0mp\u001b[0m\u001b[1;33m=\u001b[0m\u001b[0mp_resumption\u001b[0m\u001b[1;33m,\u001b[0m \u001b[0md\u001b[0m\u001b[1;33m=\u001b[0m\u001b[0mdiff_resumption\u001b[0m\u001b[1;33m)\u001b[0m\u001b[1;33m)\u001b[0m\u001b[1;33m\u001b[0m\u001b[1;33m\u001b[0m\u001b[0m\n",
      "\u001b[1;31mNameError\u001b[0m: name 'df_experimental' is not defined"
     ]
    }
   ],
   "source": [
    "# resumption lag\n",
    "t_resumption, p_resumption, diff_resumption = compute_improvement(\n",
    "    df_experimental['a_p_resumption'], \n",
    "    df_experimental['te_p_resumption'])\n",
    "print('\\nRESUMPTION (all): t={t}, p={p}, d={d}'.format(t=t_resumption, p=p_resumption, d=diff_resumption))\n",
    "print('Participants {significance} {change} their resumption lag regardless of the task.'.format(\n",
    "    change=is_improvement(diff_resumption), significance=is_significant(p_resumption)))\n",
    "\n",
    "# resumption lag in hanoi\n",
    "t_hanoi_resumption, p_hanoi_resumption, diff_hanoi_resumption = compute_improvement(\n",
    "    df_experimental[df_experimental['a_p_name'] == 'hanoi']['a_p_resumption'], \n",
    "    df_experimental[df_experimental['te_p_name'] == 'hanoi']['te_p_resumption'])\n",
    "print('\\nRESUMPTION (hanoi): t={t}, p={p}, d={d}'.format(t=t_hanoi_resumption, p=p_hanoi_resumption, d=diff_hanoi_resumption))\n",
    "print('Participants {significance} {change} their resumption lag on the hanoi task.'.format(\n",
    "    change=is_improvement(diff_hanoi_resumption), significance=is_significant(p_hanoi_resumption)))\n",
    "\n",
    "# resumption lag in draw\n",
    "t_draw_resumption, p_draw_resumption, diff_draw_resumption = compute_improvement(\n",
    "    df_experimental[df_experimental['a_p_name'] == 'draw']['a_p_resumption'], \n",
    "    df_experimental[df_experimental['te_p_name'] == 'draw']['te_p_resumption'])\n",
    "print('\\nRESUMPTION (draw): t={t}, p={p}, d={d}'.format(t=t_draw_resumption, p=p_draw_resumption, d=diff_draw_resumption))\n",
    "print('Participants {significance} {change} their resumption lag on the draw task.'.format(\n",
    "    change=is_improvement(diff_draw_resumption), significance=is_significant(p_draw_resumption)))"
   ]
  },
  {
   "cell_type": "markdown",
   "metadata": {},
   "source": [
    "#### Predictors of the improvement in resumption lag (ANOVA)"
   ]
  },
  {
   "cell_type": "code",
   "execution_count": null,
   "metadata": {},
   "outputs": [],
   "source": [
    "resumption_lag_y = df_experimental['te_p_resumption'] - df_experimental['a_p_resumption']\n",
    "resumption_lag_x = df_x.drop(columns=['te_p_resumption', 'a_p_resumption'])"
   ]
  },
  {
   "cell_type": "code",
   "execution_count": null,
   "metadata": {},
   "outputs": [],
   "source": [
    "model = sm.OLS(resumption_lag_y, resumption_lag_x)\n",
    "results = model.fit()\n",
    "print(results.summary())"
   ]
  },
  {
   "cell_type": "code",
   "execution_count": null,
   "metadata": {},
   "outputs": [],
   "source": []
  },
  {
   "cell_type": "markdown",
   "metadata": {},
   "source": [
    "## Interruption Lag"
   ]
  },
  {
   "cell_type": "markdown",
   "metadata": {},
   "source": [
    "#### Improvement in interruption lag (t-test)"
   ]
  },
  {
   "cell_type": "code",
   "execution_count": null,
   "metadata": {},
   "outputs": [],
   "source": [
    "# interruption lag\n",
    "t_interruption, p_interruption, diff_interruption = compute_improvement(\n",
    "    df_experimental['a_i_time'], \n",
    "    df_experimental['te_i_time'])\n",
    "print('\\nINTERRUPTION (all): t={t}, p={p}, d={d}'.format(t=t_interruption, p=p_interruption, d=diff_interruption))\n",
    "print('Participants {significance} {change} their interruption lag regardless of the task.'.format(\n",
    "    change=is_improvement(diff_interruption), significance=is_significant(p_interruption)))\n",
    "\n",
    "# interruption lag in hanoi\n",
    "t_hanoi_interruption, p_hanoi_interruption, diff_hanoi_interruption = compute_improvement(\n",
    "    df_experimental[df_experimental['a_p_name'] == 'hanoi']['a_i_time'], \n",
    "    df_experimental[df_experimental['te_p_name'] == 'hanoi']['te_i_time'])\n",
    "print('\\nINTERRUPTION (hanoi): t={t}, p={p}, d={d}'.format(t=t_hanoi_interruption, p=p_hanoi_interruption, d=diff_hanoi_interruption))\n",
    "print('Participants {significance} {change} their interruption lag on the hanoi task.'.format(\n",
    "    change=is_improvement(diff_hanoi_interruption), significance=is_significant(p_hanoi_interruption)))\n",
    "\n",
    "# interruption lag in draw\n",
    "t_draw_interruption, p_draw_interruption, diff_draw_interruption = compute_improvement(\n",
    "    df_experimental[df_experimental['a_p_name'] == 'draw']['a_i_time'], \n",
    "    df_experimental[df_experimental['te_p_name'] == 'draw']['te_i_time'])\n",
    "print('\\nINTERRUPTION (draw): t={t}, p={p}, d={d}'.format(t=t_draw_interruption, p=p_draw_interruption, d=diff_draw_interruption))\n",
    "print('Participants {significance} {change} their interruption lag on the draw task.'.format(\n",
    "    change=is_improvement(diff_draw_interruption), significance=is_significant(p_draw_interruption)))"
   ]
  },
  {
   "cell_type": "markdown",
   "metadata": {},
   "source": [
    "#### Predictors of the improvement in interruption lag (ANOVA)"
   ]
  },
  {
   "cell_type": "code",
   "execution_count": null,
   "metadata": {},
   "outputs": [],
   "source": [
    "interruption_lag_y = df_experimental['te_p_moveinterruptedtime'] - df_experimental['a_p_moveinterruptedtime']\n",
    "interruption_lag_x = df_x.drop(columns=['te_p_moveinterruptedtime', 'a_p_moveinterruptedtime'])"
   ]
  },
  {
   "cell_type": "code",
   "execution_count": null,
   "metadata": {},
   "outputs": [],
   "source": [
    "model = sm.OLS(interruption_lag_y, interruption_lag_x)\n",
    "results = model.fit()\n",
    "print(results.summary())"
   ]
  },
  {
   "cell_type": "code",
   "execution_count": null,
   "metadata": {},
   "outputs": [],
   "source": []
  },
  {
   "cell_type": "markdown",
   "metadata": {},
   "source": [
    "## Accuracy in completing primary tasks\n",
    "    - for draw task as measured by percentage of tasks solved correctly\n",
    "    - for hanoi task as measured by moves taken to solve"
   ]
  },
  {
   "cell_type": "markdown",
   "metadata": {},
   "source": [
    "#### During draw task"
   ]
  },
  {
   "cell_type": "code",
   "execution_count": null,
   "metadata": {},
   "outputs": [],
   "source": [
    "# percentage of correct memory tasks\n",
    "t_draw_correctness, p_draw_correctness, diff_draw_correctness = compute_improvement(\n",
    "    df_experimental[df_experimental['a_p_name'] == 'draw']['a_p_correctness'], \n",
    "    df_experimental[df_experimental['te_p_name'] == 'draw']['te_p_correctness'])\n",
    "print('\\nCORRECTNESS (draw): t={t}, p={p}, d={d}'.format(t=t_draw_correctness, p=p_draw_correctness, d=diff_draw_correctness))\n",
    "print('Participants {significance} {change} in how many draw tasks they answered correctly.'.format(\n",
    "    change=is_improvement(diff_draw_correctness), significance=is_significant(p_draw_correctness)))\n",
    "\n",
    "# correctness of math interruptions during draw\n",
    "t_draw_math_correctness, p_draw_math_correctness, diff_draw_math_correctness = compute_improvement(\n",
    "    df_experimental[(df_experimental['a_p_name'] == 'draw') & (df_experimental['a_i_name'] == 'math')]['a_p_correctness'], \n",
    "    df_experimental[(df_experimental['te_p_name'] == 'draw') & (df_experimental['te_i_name'] == 'math')]['te_p_correctness'])\n",
    "print('\\nCORRECTNESS (draw-math): t={t}, p={p}, d={d}'.format(t=t_draw_math_correctness, p=p_draw_math_correctness, d=diff_draw_math_correctness))\n",
    "print('Participants {significance} {change} in the correctness to solve a draw task when experiencing math interruptions.'.format(\n",
    "    change=is_improvement(diff_draw_math_correctness), significance=is_significant(p_draw_math_correctness)))\n",
    "\n",
    "# correctness of stroop interruptions during draw\n",
    "t_draw_stroop_correctness, p_draw_stroop_correctness, diff_draw_stroop_correctness = compute_improvement(\n",
    "    df_experimental[(df_experimental['a_p_name'] == 'draw') & (df_experimental['a_i_name'] == 'stroop')]['a_p_correctness'], \n",
    "    df_experimental[(df_experimental['te_p_name'] == 'draw') & (df_experimental['te_i_name'] == 'stroop')]['te_p_correctness'])\n",
    "print('\\nCORRECTNESS (draw-stroop): t={t}, p={p}, d={d}'.format(t=t_draw_stroop_correctness, p=p_draw_stroop_correctness, d=diff_draw_stroop_correctness))\n",
    "print('Participants {significance} {change} in the correctness to solve a draw task when experiencing stroop.'.format(\n",
    "    change=is_improvement(diff_draw_stroop_correctness), significance=is_significant(p_draw_stroop_correctness)))"
   ]
  },
  {
   "cell_type": "markdown",
   "metadata": {},
   "source": [
    "#### During hanoi task"
   ]
  },
  {
   "cell_type": "code",
   "execution_count": null,
   "metadata": {},
   "outputs": [],
   "source": [
    "# number of hanoi moves\n",
    "t_hanoi_moves, p_hanoi_moves, diff_hanoi_moves = compute_improvement(\n",
    "    df_experimental[df_experimental['a_p_name'] == 'hanoi']['a_p_movestotal'].astype(float), \n",
    "    df_experimental[df_experimental['te_p_name'] == 'hanoi']['te_p_movestotal'].astype(float))\n",
    "print('\\nMOVES TAKEN (hanoi): t={t}, p={p}, d={d}'.format(t=t_hanoi_moves, p=p_hanoi_moves, d=diff_hanoi_moves))\n",
    "print('Participants {significance} {change} in the number of moves needed to complete a hanoi task.'.format(\n",
    "    change=is_improvement(diff_hanoi_moves), significance=is_significant(p_hanoi_moves)))\n",
    "\n",
    "# moves of math interruptions during hanoi\n",
    "t_hanoi_math_moves, p_hanoi_math_moves, diff_hanoi_math_moves = compute_improvement(\n",
    "    df_experimental[(df_experimental['a_p_name'] == 'hanoi') & (df_experimental['a_i_name'] == 'math')]['a_p_movestotal'].astype(float), \n",
    "    df_experimental[(df_experimental['te_p_name'] == 'hanoi') & (df_experimental['te_i_name'] == 'math')]['te_p_movestotal'].astype(float))\n",
    "print('\\nMOVES TAKEN (hanoi-math): t={t}, p={p}, d={d}'.format(t=t_hanoi_math_moves, p=p_hanoi_math_moves, d=diff_hanoi_math_moves))\n",
    "print('Participants {significance} {change} in the moves to solve a hanoi task when experiencing math interruptions.'.format(\n",
    "    change=is_improvement(diff_hanoi_math_moves), significance=is_significant(p_hanoi_math_moves)))\n",
    "\n",
    "# moves of stroop interruptions during hanoi\n",
    "t_hanoi_stroop_moves, p_hanoi_stroop_moves, diff_hanoi_stroop_moves = compute_improvement(\n",
    "    df_experimental[(df_experimental['a_p_name'] == 'hanoi') & (df_experimental['a_i_name'] == 'stroop')]['a_p_movestotal'].astype(float), \n",
    "    df_experimental[(df_experimental['te_p_name'] == 'hanoi') & (df_experimental['te_i_name'] == 'stroop')]['te_p_movestotal'].astype(float))\n",
    "print('\\nMOVES TAKEN (hanoi-stroop): t={t}, p={p}, d={d}'.format(t=t_hanoi_stroop_moves, p=p_hanoi_stroop_moves, d=diff_hanoi_stroop_moves))\n",
    "print('Participants {significance} {change} in the moves to solve a hanoi task when experiencing stroop.'.format(\n",
    "    change=is_improvement(diff_hanoi_stroop_moves), significance=is_significant(p_hanoi_stroop_moves)))"
   ]
  },
  {
   "cell_type": "markdown",
   "metadata": {},
   "source": [
    "## Speed in completing primary tasks\n",
    "    - as measured in time (seconds) taken to solve"
   ]
  },
  {
   "cell_type": "code",
   "execution_count": 41,
   "metadata": {},
   "outputs": [
    {
     "name": "stdout",
     "output_type": "stream",
     "text": [
      "\n",
      "TIME SPENT (any-any): t=-0.9403122424321736, p=0.3479169880028745, d=-22.286397952253214\n",
      "Participants  decreased [-] in the time to solve any primary task\n"
     ]
    }
   ],
   "source": [
    "# time spent on primary tasks\n",
    "t_time, p_time, diff_time = compute_improvement(\n",
    "    df_experimental['a_p_time'], \n",
    "    df_experimental['te_p_time'])\n",
    "print('\\nTIME SPENT (any-any): t={t}, p={p}, d={d}'.format(t=t_time, p=p_time, d=diff_time))\n",
    "print('Participants {significance} {change} in the time to solve any primary task'.format(\n",
    "    change=is_improvement(diff_time), significance=is_significant(p_time)))"
   ]
  },
  {
   "cell_type": "markdown",
   "metadata": {},
   "source": [
    "#### During draw task"
   ]
  },
  {
   "cell_type": "code",
   "execution_count": 42,
   "metadata": {},
   "outputs": [
    {
     "name": "stdout",
     "output_type": "stream",
     "text": [
      "\n",
      "TIME SPENT (draw-any): t=2.0963274293443823, p=0.03811943227355334, d=1.0042274104890627\n",
      "Participants significantly [*] increased [+] in the time to solve a draw task.\n",
      "\n",
      "TIME SPENT (draw-math): t=1.2529267731719294, p=0.21493729050468646, d=0.726952759175503\n",
      "Participants  increased [+] in the time to solve a draw task when experiencing math interruptions.\n",
      "\n",
      "TIME SPENT (draw-stroop): t=1.7386290100265218, p=0.08740609598464778, d=1.2999870385568595\n",
      "Participants  increased [+] in the time to solve a draw task when experiencing stroop.\n"
     ]
    }
   ],
   "source": [
    "# time spent on draw task\n",
    "t_draw_time, p_draw_time, diff_draw_time = compute_improvement(\n",
    "    df_experimental[df_experimental['a_p_name'] == 'draw']['a_p_time'], \n",
    "    df_experimental[df_experimental['te_p_name'] == 'draw']['te_p_time'])\n",
    "print('\\nTIME SPENT (draw-any): t={t}, p={p}, d={d}'.format(t=t_draw_time, p=p_draw_time, d=diff_draw_time))\n",
    "print('Participants {significance} {change} in the time to solve a draw task.'.format(\n",
    "    change=is_improvement(diff_draw_time), significance=is_significant(p_draw_time)))\n",
    "\n",
    "# time of math interruptions during draw\n",
    "t_draw_math_time, p_draw_math_time, diff_draw_math_time = compute_improvement(\n",
    "    df_experimental[(df_experimental['a_p_name'] == 'draw') & (df_experimental['a_i_name'] == 'math')]['a_p_time'], \n",
    "    df_experimental[(df_experimental['te_p_name'] == 'draw') & (df_experimental['te_i_name'] == 'math')]['te_p_time'])\n",
    "print('\\nTIME SPENT (draw-math): t={t}, p={p}, d={d}'.format(t=t_draw_math_time, p=p_draw_math_time, d=diff_draw_math_time))\n",
    "print('Participants {significance} {change} in the time to solve a draw task when experiencing math interruptions.'.format(\n",
    "    change=is_improvement(diff_draw_math_time), significance=is_significant(p_draw_math_time)))\n",
    "\n",
    "# time of stroop interruptions during draw\n",
    "t_draw_stroop_time, p_draw_stroop_time, diff_draw_stroop_time = compute_improvement(\n",
    "    df_experimental[(df_experimental['a_p_name'] == 'draw') & (df_experimental['a_i_name'] == 'stroop')]['a_p_time'], \n",
    "    df_experimental[(df_experimental['te_p_name'] == 'draw') & (df_experimental['te_i_name'] == 'stroop')]['te_p_time'])\n",
    "print('\\nTIME SPENT (draw-stroop): t={t}, p={p}, d={d}'.format(t=t_draw_stroop_time, p=p_draw_stroop_time, d=diff_draw_stroop_time))\n",
    "print('Participants {significance} {change} in the time to solve a draw task when experiencing stroop.'.format(\n",
    "    change=is_improvement(diff_draw_stroop_time), significance=is_significant(p_draw_stroop_time)))"
   ]
  },
  {
   "cell_type": "markdown",
   "metadata": {},
   "source": [
    "#### During hanoi task"
   ]
  },
  {
   "cell_type": "code",
   "execution_count": 26,
   "metadata": {},
   "outputs": [
    {
     "name": "stdout",
     "output_type": "stream",
     "text": [
      "\n",
      "TIME SPENT (hanoi-any): t=-1.5622677908977638, p=0.12065602872504214, d=-35.531550145454545\n",
      "Participants  decreased [-] in the time to solve a hanoi task.\n",
      "\n",
      "TIME SPENT (hanoi-math): t=-0.7131182925191635, p=0.47863205014343113, d=-30.188741210000003\n",
      "Participants  decreased [-] in the time to solve a hanoi task when experiencing math interruptions.\n",
      "\n",
      "TIME SPENT (hanoi-stroop): t=-1.9315167456965248, p=0.05746838951937206, d=-39.983890925000004\n",
      "Participants  decreased [-] in the time to solve a hanoi task when experiencing stroop.\n"
     ]
    }
   ],
   "source": [
    "# time spent on hanoi task\n",
    "t_hanoi_time, p_hanoi_time, diff_hanoi_time = compute_improvement(\n",
    "    df_experimental[df_experimental['a_p_name'] == 'hanoi']['a_p_time'], \n",
    "    df_experimental[df_experimental['te_p_name'] == 'hanoi']['te_p_time'])\n",
    "print('\\nTIME SPENT (hanoi-any): t={t}, p={p}, d={d}'.format(t=t_hanoi_time, p=p_hanoi_time, d=diff_hanoi_time))\n",
    "print('Participants {significance} {change} in the time to solve a hanoi task.'.format(\n",
    "    change=is_improvement(diff_hanoi_time), significance=is_significant(p_hanoi_time)))\n",
    "\n",
    "# time of math interruptions during hanoi\n",
    "t_hanoi_math_time, p_hanoi_math_time, diff_hanoi_math_time = compute_improvement(\n",
    "    df_experimental[(df_experimental['a_p_name'] == 'hanoi') & (df_experimental['a_i_name'] == 'math')]['a_p_time'], \n",
    "    df_experimental[(df_experimental['te_p_name'] == 'hanoi') & (df_experimental['te_i_name'] == 'math')]['te_p_time'])\n",
    "print('\\nTIME SPENT (hanoi-math): t={t}, p={p}, d={d}'.format(t=t_hanoi_math_time, p=p_hanoi_math_time, d=diff_hanoi_math_time))\n",
    "print('Participants {significance} {change} in the time to solve a hanoi task when experiencing math interruptions.'.format(\n",
    "    change=is_improvement(diff_hanoi_math_time), significance=is_significant(p_hanoi_math_time)))\n",
    "\n",
    "# time of stroop interruptions during hanoi\n",
    "t_hanoi_stroop_time, p_hanoi_stroop_time, diff_hanoi_stroop_time = compute_improvement(\n",
    "    df_experimental[(df_experimental['a_p_name'] == 'hanoi') & (df_experimental['a_i_name'] == 'stroop')]['a_p_time'], \n",
    "    df_experimental[(df_experimental['te_p_name'] == 'hanoi') & (df_experimental['te_i_name'] == 'stroop')]['te_p_time'])\n",
    "print('\\nTIME SPENT (hanoi-stroop): t={t}, p={p}, d={d}'.format(t=t_hanoi_stroop_time, p=p_hanoi_stroop_time, d=diff_hanoi_stroop_time))\n",
    "print('Participants {significance} {change} in the time to solve a hanoi task when experiencing stroop.'.format(\n",
    "    change=is_improvement(diff_hanoi_stroop_time), significance=is_significant(p_hanoi_stroop_time)))"
   ]
  },
  {
   "cell_type": "markdown",
   "metadata": {},
   "source": [
    "## Accuracy in completing interruptions\n",
    "    - as measured by the percentage of interrupting tasks correctly answered"
   ]
  },
  {
   "cell_type": "code",
   "execution_count": 27,
   "metadata": {},
   "outputs": [
    {
     "name": "stdout",
     "output_type": "stream",
     "text": [
      "\n",
      "ACCURACY OF INTERRUPTIONS (any-any): t=0.5577192076550433, p=0.577531234213471, d=0.00826612679527558\n",
      "Participants  increased [+] in the correctness of their interruption responses regardless of task.\n"
     ]
    }
   ],
   "source": [
    "# accuracy completing interruptions\n",
    "t_accuracy, p_accuracy, diff_accuracy = compute_improvement(\n",
    "    df_experimental['a_i_percentage'], \n",
    "    df_experimental['te_i_percentage'])\n",
    "print('\\nACCURACY OF INTERRUPTIONS (any-any): t={t}, p={p}, d={d}'.format(t=t_accuracy, p=p_accuracy, d=diff_accuracy))\n",
    "print('Participants {significance} {change} in the correctness of their interruption responses regardless of task.'.format(\n",
    "    change=is_improvement(diff_accuracy), significance=is_significant(p_accuracy)))"
   ]
  },
  {
   "cell_type": "markdown",
   "metadata": {},
   "source": [
    "#### During draw task"
   ]
  },
  {
   "cell_type": "code",
   "execution_count": 28,
   "metadata": {},
   "outputs": [
    {
     "name": "stdout",
     "output_type": "stream",
     "text": [
      "\n",
      "ACCURACY OF INTERRUPTIONS (draw-any): t=0.033685461574074496, p=0.9731839390867589, d=0.000773746049180326\n",
      "Participants  increased [+] in the number of interruptions completed during the draw task.\n",
      "\n",
      "ACCURACY OF INTERRUPTIONS (draw-math): t=0.12865100145638536, p=0.8980640796827879, d=0.004320622548387108\n",
      "Participants  increased [+] in the number of math interruptions completed during the draw task.\n",
      "\n",
      "ACCURACY OF INTERRUPTIONS (draw-stroop): t=-0.11627146480561182, p=0.9078390574940828, d=-0.002891359666666682\n",
      "Participants  decreased [-] in the number of stroop interruptions completed during the draw task.\n"
     ]
    }
   ],
   "source": [
    "# accuracy of interruptions during draw\n",
    "t_draw_accuracy, p_draw_accuracy, diff_draw_accuracy = compute_improvement(\n",
    "    df_experimental[df_experimental['a_p_name'] == 'draw']['a_i_percentage'], \n",
    "    df_experimental[df_experimental['te_p_name'] == 'draw']['te_i_percentage'])\n",
    "print('\\nACCURACY OF INTERRUPTIONS (draw-any): t={t}, p={p}, d={d}'.format(t=t_draw_accuracy, p=p_draw_accuracy, d=diff_draw_accuracy))\n",
    "print('Participants {significance} {change} in the number of interruptions completed during the draw task.'.format(\n",
    "    change=is_improvement(diff_draw_accuracy), significance=is_significant(p_draw_accuracy)))\n",
    "\n",
    "# accuracy of math interruptions during draw\n",
    "t_draw_math_accuracy, p_draw_math_accuracy, diff_draw_math_accuracy = compute_improvement(\n",
    "    df_experimental[(df_experimental['a_p_name'] == 'draw') & (df_experimental['a_i_name'] == 'math')]['a_i_percentage'], \n",
    "    df_experimental[(df_experimental['te_p_name'] == 'draw') & (df_experimental['te_i_name'] == 'math')]['te_i_percentage'])\n",
    "print('\\nACCURACY OF INTERRUPTIONS (draw-math): t={t}, p={p}, d={d}'.format(t=t_draw_math_accuracy, p=p_draw_math_accuracy, d=diff_draw_math_accuracy))\n",
    "print('Participants {significance} {change} in the number of math interruptions completed during the draw task.'.format(\n",
    "    change=is_improvement(diff_draw_math_accuracy), significance=is_significant(p_draw_math_accuracy)))\n",
    "\n",
    "# accuracy of stroop interruptions during draw\n",
    "t_draw_stroop_accuracy, p_draw_stroop_accuracy, diff_draw_stroop_accuracy = compute_improvement(\n",
    "    df_experimental[(df_experimental['a_p_name'] == 'draw') & (df_experimental['a_i_name'] == 'stroop')]['a_i_percentage'], \n",
    "    df_experimental[(df_experimental['te_p_name'] == 'draw') & (df_experimental['te_i_name'] == 'stroop')]['te_i_percentage'])\n",
    "print('\\nACCURACY OF INTERRUPTIONS (draw-stroop): t={t}, p={p}, d={d}'.format(t=t_draw_stroop_accuracy, p=p_draw_stroop_accuracy, d=diff_draw_stroop_accuracy))\n",
    "print('Participants {significance} {change} in the number of stroop interruptions completed during the draw task.'.format(\n",
    "    change=is_improvement(diff_draw_stroop_accuracy), significance=is_significant(p_draw_stroop_accuracy)))"
   ]
  },
  {
   "cell_type": "markdown",
   "metadata": {},
   "source": [
    "#### During hanoi task"
   ]
  },
  {
   "cell_type": "code",
   "execution_count": 29,
   "metadata": {},
   "outputs": [
    {
     "name": "stdout",
     "output_type": "stream",
     "text": [
      "\n",
      "ACCURACY OF INTERRUPTIONS (hanoi-any): t=0.7929583899871729, p=0.4292468781991946, d=0.015190902939393925\n",
      "Participants  increased [+] in the number of interruptions completed during the hanoi task.\n",
      "\n",
      "ACCURACY OF INTERRUPTIONS (hanoi-math): t=1.6952836617594977, p=0.09538437938764352, d=0.048804240366666654\n",
      "Participants  increased [+] in the number of math interruptions completed during the hanoi task.\n",
      "\n",
      "ACCURACY OF INTERRUPTIONS (hanoi-stroop): t=-0.6543448112513663, p=0.5150338629013747, d=-0.012820211583333345\n",
      "Participants  decreased [-] in the number of stroop interruptions completed during the hanoi task.\n"
     ]
    }
   ],
   "source": [
    "# accuracy of interruptions during hanoi\n",
    "t_hanoi_accuracy, p_hanoi_accuracy, diff_hanoi_accuracy = compute_improvement(\n",
    "    df_experimental[df_experimental['a_p_name'] == 'hanoi']['a_i_percentage'], \n",
    "    df_experimental[df_experimental['te_p_name'] == 'hanoi']['te_i_percentage'])\n",
    "print('\\nACCURACY OF INTERRUPTIONS (hanoi-any): t={t}, p={p}, d={d}'.format(t=t_hanoi_accuracy, p=p_hanoi_accuracy, d=diff_hanoi_accuracy))\n",
    "print('Participants {significance} {change} in the number of interruptions completed during the hanoi task.'.format(\n",
    "    change=is_improvement(diff_hanoi_accuracy), significance=is_significant(p_hanoi_accuracy)))\n",
    "\n",
    "# accuracy of math interruptions during hanoi\n",
    "t_hanoi_math_accuracy, p_hanoi_math_accuracy, diff_hanoi_math_accuracy = compute_improvement(\n",
    "    df_experimental[(df_experimental['a_p_name'] == 'hanoi') & (df_experimental['a_i_name'] == 'math')]['a_i_percentage'], \n",
    "    df_experimental[(df_experimental['te_p_name'] == 'hanoi') & (df_experimental['te_i_name'] == 'math')]['te_i_percentage'])\n",
    "print('\\nACCURACY OF INTERRUPTIONS (hanoi-math): t={t}, p={p}, d={d}'.format(t=t_hanoi_math_accuracy, p=p_hanoi_math_accuracy, d=diff_hanoi_math_accuracy))\n",
    "print('Participants {significance} {change} in the number of math interruptions completed during the hanoi task.'.format(\n",
    "    change=is_improvement(diff_hanoi_math_accuracy), significance=is_significant(p_hanoi_math_accuracy)))\n",
    "\n",
    "# accuracy of stroop interruptions during hanoi\n",
    "t_hanoi_stroop_accuracy, p_hanoi_stroop_accuracy, diff_hanoi_stroop_accuracy = compute_improvement(\n",
    "    df_experimental[(df_experimental['a_p_name'] == 'hanoi') & (df_experimental['a_i_name'] == 'stroop')]['a_i_percentage'], \n",
    "    df_experimental[(df_experimental['te_p_name'] == 'hanoi') & (df_experimental['te_i_name'] == 'stroop')]['te_i_percentage'])\n",
    "print('\\nACCURACY OF INTERRUPTIONS (hanoi-stroop): t={t}, p={p}, d={d}'.format(t=t_hanoi_stroop_accuracy, p=p_hanoi_stroop_accuracy, d=diff_hanoi_stroop_accuracy))\n",
    "print('Participants {significance} {change} in the number of stroop interruptions completed during the hanoi task.'.format(\n",
    "    change=is_improvement(diff_hanoi_stroop_accuracy), significance=is_significant(p_hanoi_stroop_accuracy)))"
   ]
  },
  {
   "cell_type": "markdown",
   "metadata": {},
   "source": [
    "## Speed in completing interruptions\n",
    "    - as measured by the number of interrupting tasks completed within the 10s interruption period"
   ]
  },
  {
   "cell_type": "code",
   "execution_count": 30,
   "metadata": {},
   "outputs": [
    {
     "name": "stdout",
     "output_type": "stream",
     "text": [
      "\n",
      "INTERRUPTIONS TOTAL (any-any): t=-4.0105978079467395, p=7.985779159586052e-05, d=-7.9921259842519685\n",
      "Participants extremely significantly [**] decreased [-] in the number of interruptions completed regardless of task.\n"
     ]
    }
   ],
   "source": [
    "# number of interruptions\n",
    "t_interrupts, p_interrupts, diff_interrupts = compute_improvement(\n",
    "    df_experimental['a_i_count'], \n",
    "    df_experimental['te_i_count'])\n",
    "print('\\nINTERRUPTIONS TOTAL (any-any): t={t}, p={p}, d={d}'.format(t=t_interrupts, p=p_interrupts, d=diff_interrupts))\n",
    "print('Participants {significance} {change} in the number of interruptions completed regardless of task.'.format(\n",
    "    change=is_improvement(diff_interrupts), significance=is_significant(p_interrupts)))"
   ]
  },
  {
   "cell_type": "markdown",
   "metadata": {},
   "source": [
    "#### During draw task"
   ]
  },
  {
   "cell_type": "code",
   "execution_count": 31,
   "metadata": {},
   "outputs": [
    {
     "name": "stdout",
     "output_type": "stream",
     "text": [
      "\n",
      "INTERRUPTIONS TOTAL (draw-any): t=-3.495630900182389, p=0.000663591247395759, d=-9.442622950819672\n",
      "Participants extremely significantly [**] decreased [-] in the number of interruptions completed during the draw task.\n",
      "\n",
      "INTERRUPTIONS TOTAL (draw-math): t=-2.7557039305778943, p=0.007744392499144166, d=-10.709677419354838\n",
      "Participants significantly [*] decreased [-] in the number of math interruptions completed during the draw task.\n",
      "\n",
      "INTERRUPTIONS TOTAL (draw-stroop): t=-2.623818063227064, p=0.011093804477621472, d=-8.133333333333333\n",
      "Participants significantly [*] decreased [-] in the number of stroop interruptions completed during the draw task.\n"
     ]
    }
   ],
   "source": [
    "# number of interruptions during draw\n",
    "t_draw_interrupts, p_draw_interrupts, diff_draw_interrupts = compute_improvement(\n",
    "    df_experimental[df_experimental['a_p_name'] == 'draw']['a_i_count'], \n",
    "    df_experimental[df_experimental['te_p_name'] == 'draw']['te_i_count'])\n",
    "print('\\nINTERRUPTIONS TOTAL (draw-any): t={t}, p={p}, d={d}'.format(t=t_draw_interrupts, p=p_draw_interrupts, d=diff_draw_interrupts))\n",
    "print('Participants {significance} {change} in the number of interruptions completed during the draw task.'.format(\n",
    "    change=is_improvement(diff_draw_interrupts), significance=is_significant(p_draw_interrupts)))\n",
    "\n",
    "# number of math interruptions during draw\n",
    "t_draw_math_interrupts, p_draw_math_interrupts, diff_draw_math_interrupts = compute_improvement(\n",
    "    df_experimental[(df_experimental['a_p_name'] == 'draw') & (df_experimental['a_i_name'] == 'math')]['a_i_count'], \n",
    "    df_experimental[(df_experimental['te_p_name'] == 'draw') & (df_experimental['te_i_name'] == 'math')]['te_i_count'])\n",
    "print('\\nINTERRUPTIONS TOTAL (draw-math): t={t}, p={p}, d={d}'.format(t=t_draw_math_interrupts, p=p_draw_math_interrupts, d=diff_draw_math_interrupts))\n",
    "print('Participants {significance} {change} in the number of math interruptions completed during the draw task.'.format(\n",
    "    change=is_improvement(diff_draw_math_interrupts), significance=is_significant(p_draw_math_interrupts)))\n",
    "\n",
    "# number of stroop interruptions during draw\n",
    "t_draw_stroop_interrupts, p_draw_stroop_interrupts, diff_draw_stroop_interrupts = compute_improvement(\n",
    "    df_experimental[(df_experimental['a_p_name'] == 'draw') & (df_experimental['a_i_name'] == 'stroop')]['a_i_count'], \n",
    "    df_experimental[(df_experimental['te_p_name'] == 'draw') & (df_experimental['te_i_name'] == 'stroop')]['te_i_count'])\n",
    "print('\\nINTERRUPTIONS TOTAL (draw-stroop): t={t}, p={p}, d={d}'.format(t=t_draw_stroop_interrupts, p=p_draw_stroop_interrupts, d=diff_draw_stroop_interrupts))\n",
    "print('Participants {significance} {change} in the number of stroop interruptions completed during the draw task.'.format(\n",
    "    change=is_improvement(diff_draw_stroop_interrupts), significance=is_significant(p_draw_stroop_interrupts)))"
   ]
  },
  {
   "cell_type": "markdown",
   "metadata": {},
   "source": [
    "#### During hanoi task"
   ]
  },
  {
   "cell_type": "code",
   "execution_count": 32,
   "metadata": {},
   "outputs": [
    {
     "name": "stdout",
     "output_type": "stream",
     "text": [
      "\n",
      "INTERRUPTIONS TOTAL (hanoi-any): t=-2.281764241098575, p=0.024128659075414803, d=-6.651515151515151\n",
      "Participants significantly [*] decreased [-] in the number of interruptions completed during the hanoi task.\n",
      "\n",
      "INTERRUPTIONS TOTAL (hanoi-math): t=-3.2337178982951857, p=0.002018310830435607, d=-7.7\n",
      "Participants extremely significantly [**] decreased [-] in the number of math interruptions completed during the hanoi task.\n",
      "\n",
      "INTERRUPTIONS TOTAL (hanoi-stroop): t=-1.5886050596584365, p=0.11665649866718382, d=-5.777777777777778\n",
      "Participants  decreased [-] in the number of stroop interruptions completed during the hanoi task.\n"
     ]
    }
   ],
   "source": [
    "# number of interruptions during hanoi\n",
    "t_hanoi_interrupts, p_hanoi_interrupts, diff_hanoi_interrupts = compute_improvement(\n",
    "    df_experimental[df_experimental['a_p_name'] == 'hanoi']['a_i_count'], \n",
    "    df_experimental[df_experimental['te_p_name'] == 'hanoi']['te_i_count'])\n",
    "print('\\nINTERRUPTIONS TOTAL (hanoi-any): t={t}, p={p}, d={d}'.format(t=t_hanoi_interrupts, p=p_hanoi_interrupts, d=diff_hanoi_interrupts))\n",
    "print('Participants {significance} {change} in the number of interruptions completed during the hanoi task.'.format(\n",
    "    change=is_improvement(diff_hanoi_interrupts), significance=is_significant(p_hanoi_interrupts)))\n",
    "\n",
    "# number of math interruptions during hanoi\n",
    "t_hanoi_math_interrupts, p_hanoi_math_interrupts, diff_hanoi_math_interrupts = compute_improvement(\n",
    "    df_experimental[(df_experimental['a_p_name'] == 'hanoi') & (df_experimental['a_i_name'] == 'math')]['a_i_count'], \n",
    "    df_experimental[(df_experimental['te_p_name'] == 'hanoi') & (df_experimental['te_i_name'] == 'math')]['te_i_count'])\n",
    "print('\\nINTERRUPTIONS TOTAL (hanoi-math): t={t}, p={p}, d={d}'.format(t=t_hanoi_math_interrupts, p=p_hanoi_math_interrupts, d=diff_hanoi_math_interrupts))\n",
    "print('Participants {significance} {change} in the number of math interruptions completed during the hanoi task.'.format(\n",
    "    change=is_improvement(diff_hanoi_math_interrupts), significance=is_significant(p_hanoi_math_interrupts)))\n",
    "\n",
    "# number of stroop interruptions during hanoi\n",
    "t_hanoi_stroop_interrupts, p_hanoi_stroop_interrupts, diff_hanoi_stroop_interrupts = compute_improvement(\n",
    "    df_experimental[(df_experimental['a_p_name'] == 'hanoi') & (df_experimental['a_i_name'] == 'stroop')]['a_i_count'], \n",
    "    df_experimental[(df_experimental['te_p_name'] == 'hanoi') & (df_experimental['te_i_name'] == 'stroop')]['te_i_count'])\n",
    "print('\\nINTERRUPTIONS TOTAL (hanoi-stroop): t={t}, p={p}, d={d}'.format(t=t_hanoi_stroop_interrupts, p=p_hanoi_stroop_interrupts, d=diff_hanoi_stroop_interrupts))\n",
    "print('Participants {significance} {change} in the number of stroop interruptions completed during the hanoi task.'.format(\n",
    "    change=is_improvement(diff_hanoi_stroop_interrupts), significance=is_significant(p_hanoi_stroop_interrupts)))"
   ]
  },
  {
   "cell_type": "markdown",
   "metadata": {},
   "source": [
    "## Hypotheses (In Progress)\n",
    "    - training on a novel task (condition = 1)\n",
    "    - training on a novel interruption (condition = 2)\n",
    "    - improvements are currently between the assessment and testing phases in the experimental condition\n",
    "    \n",
    "    - needs a comparison to see if there's a similar improvement in the corresponding control condition:\n",
    "    - if p-val is significant in experimental as well as in control (training cannot account for any improvement)\n",
    "    - if p-val is significant in experimental but not in control (training is responsible for the improvement)\n",
    "    - if p-val is not significant in experimental but is in control (training without interruptions is better)\n",
    "    - if p-val is not significant in experimental as well as in control (no improvement is shown regardless)"
   ]
  },
  {
   "cell_type": "code",
   "execution_count": null,
   "metadata": {},
   "outputs": [],
   "source": [
    "# Todo: determine an appropriate variable/metric for interruption lag!"
   ]
  },
  {
   "cell_type": "code",
   "execution_count": 55,
   "metadata": {},
   "outputs": [],
   "source": [
    "df = pd.read_csv(\"DataResults/final.csv\")\n",
    "df_conditions = df.iloc[: , 1:][[\"Starting Interruption\", \"Starting Task\", \"Condition\"]]\n",
    "df_conditions = df_conditions.drop_duplicates()\n",
    "\n",
    "starting_interruption = []\n",
    "starting_task = []\n",
    "conditions = []\n",
    "metric_description = []\n",
    "task_description = []\n",
    "t_exp = []\n",
    "p_exp = []\n",
    "difference_exp = []\n",
    "t_control = []\n",
    "p_control = []\n",
    "difference_control = []\n",
    "t_condition = []\n",
    "p_condition = []\n",
    "# entry = [] # condition, metric, task, t-exp, p-exp , difference-exp, t-control, p-control, difference-control"
   ]
  },
  {
   "cell_type": "code",
   "execution_count": 44,
   "metadata": {},
   "outputs": [
    {
     "data": {
      "text/plain": [
       "(8, 3)"
      ]
     },
     "execution_count": 44,
     "metadata": {},
     "output_type": "execute_result"
    }
   ],
   "source": [
    "df_conditions.shape"
   ]
  },
  {
   "cell_type": "code",
   "execution_count": 57,
   "metadata": {},
   "outputs": [],
   "source": [
    "def compare_improvement(interruption, task, condition, metric_descript, df_data, pre_metric, post_metric):\n",
    "    try:\n",
    "        t_1, p_1, diff_1 = compute_improvement(\n",
    "            df_data[(df_data['Control'] == 1) & (df_data['Starting Interruption'] == interruption) & (df_data['Starting Task'] == task) & (df_data['Condition'] == condition)][pre_metric].astype(float), \n",
    "            df_data[(df_data['Control'] == 1) & (df_data['Starting Interruption'] == interruption) & (df_data['Starting Task'] == task) & (df_data['Condition'] == condition)][post_metric].astype(float))\n",
    "    except:\n",
    "        print(\"p_1: The corresponding control condition was not found\")\n",
    "        t_1 = \"uncollected\"\n",
    "        p_1 = \"uncollected\"\n",
    "        diff_1 = \"uncollected\"\n",
    "    try:\n",
    "        t_0, p_0, diff_0 = compute_improvement(\n",
    "            df_data[(df_data['Control'] == 0) & (df_data['Starting Interruption'] == interruption) & (df_data['Starting Task'] == task) & (df_data['Condition'] == condition)][pre_metric].astype(float), \n",
    "            df_data[(df_data['Control'] == 0) & (df_data['Starting Interruption'] == interruption) & (df_data['Starting Task'] == task) & (df_data['Condition'] == condition)][post_metric].astype(float))\n",
    "    except:\n",
    "        print(\"p_0: The corresponding experimental condition was not found\")\n",
    "        t_0 = \"uncollected\"\n",
    "        p_0 = \"uncollected\"\n",
    "        diff_0 = \"uncollected\"\n",
    "        \n",
    "    try:\n",
    "        diff_experimental = df_data[(df_data['Control'] == 0) & (df_data['Starting Interruption'] == interruption) & (df_data['Starting Task'] == task) & (df_data['Condition'] == condition)][post_metric].astype(float) - df_data[(df_data['Control'] == 0) & (df_data['Starting Interruption'] == interruption) & (df_data['Starting Task'] == task) & (df_data['Condition'] == condition)][pre_metric].astype(float)\n",
    "        diff_control = df_data[(df_data['Control'] == 1) & (df_data['Starting Interruption'] == interruption) & (df_data['Starting Task'] == task) & (df_data['Condition'] == condition)][post_metric].astype(float) - df_data[(df_data['Control'] == 1) & (df_data['Starting Interruption'] == interruption) & (df_data['Starting Task'] == task) & (df_data['Condition'] == condition)][pre_metric].astype(float)\n",
    "        t_2, p_2, _ = compute_improvement(diff_experimental, diff_control)\n",
    "    except:\n",
    "        print(\"diff: The corresponding control condition was not found\")\n",
    "        t_2 = \"uncollected\"\n",
    "        p_2 = \"uncollected\"\n",
    "    \n",
    "    try:\n",
    "        starting_interruption.append(interruption)\n",
    "        starting_task.append(task)\n",
    "        conditions.append(condition)\n",
    "        metric_description.append(metric_descript)\n",
    "        t_exp.append(t_0)\n",
    "        p_exp.append(p_0)\n",
    "        difference_exp.append(diff_0)\n",
    "        t_control.append(t_1)\n",
    "        p_control.append(p_1)\n",
    "        difference_control.append(diff_1)\n",
    "        t_condition.append(t_2)\n",
    "        p_condition.append(p_2)\n",
    "    except:\n",
    "        print(\"Could not make comparison between experimental and control condition\")"
   ]
  },
  {
   "cell_type": "code",
   "execution_count": 58,
   "metadata": {},
   "outputs": [
    {
     "name": "stdout",
     "output_type": "stream",
     "text": [
      "draw\n",
      "draw\n",
      "hanoi\n",
      "hanoi\n",
      "draw\n",
      "draw\n",
      "hanoi\n",
      "hanoi\n"
     ]
    }
   ],
   "source": [
    "for index, row in df_conditions.iterrows():\n",
    "    \n",
    "    if row['Starting Task'] == 1:\n",
    "        compare_improvement(row['Starting Interruption'], row['Starting Task'], row['Condition'], 'accuracy on primary task', df, 'a_p_correctness', 'te_p_correctness')\n",
    "        print(\"draw\")\n",
    "    else:\n",
    "        compare_improvement(row['Starting Interruption'], row['Starting Task'], row['Condition'], 'accuracy on primary task', df, 'a_p_movestotal', 'te_p_movestotal')\n",
    "        print(\"hanoi\")\n",
    "    compare_improvement(row['Starting Interruption'], row['Starting Task'], row['Condition'], 'accuracy on interrupting task', df, 'a_i_percentage', 'te_i_percentage')\n",
    "    compare_improvement(row['Starting Interruption'], row['Starting Task'], row['Condition'], 'speed on primary task', df, 'a_p_time', 'te_p_time')\n",
    "    compare_improvement(row['Starting Interruption'], row['Starting Task'], row['Condition'], 'number of interrupting tasks', df, 'a_i_count', 'te_i_count')\n",
    "\n",
    "    compare_improvement(row['Starting Interruption'], row['Starting Task'], row['Condition'], 'interruption lag / speed on interrupting task', df, 'a_i_time', 'te_i_time')\n",
    "    compare_improvement(row['Starting Interruption'], row['Starting Task'], row['Condition'], 'resumption lag', df, 'a_p_resumption', 'te_p_resumption')\n",
    "    # compare_improvement(row['Starting Interruption'], row['Starting Task'], row['Condition'], 'interruption lag', df, 'a_i_interruptionlag', 'te_i_interruptionlag')\n",
    "    compare_improvement(row['Starting Interruption'], row['Starting Task'], row['Condition'], 'interruption effort', df, 'a_i_e_effort', 'te_i_e_effort')\n",
    "    compare_improvement(row['Starting Interruption'], row['Starting Task'], row['Condition'], 'interruption confidence', df, 'a_i_e_confidence', 'te_i_e_confidence')\n",
    "    compare_improvement(row['Starting Interruption'], row['Starting Task'], row['Condition'], 'primary task effort', df, 'a_p_e_effort', 'te_p_e_effort')\n",
    "    compare_improvement(row['Starting Interruption'], row['Starting Task'], row['Condition'], 'primary task confidence', df, 'a_p_e_confidence', 'te_p_e_confidence')"
   ]
  },
  {
   "cell_type": "code",
   "execution_count": 59,
   "metadata": {},
   "outputs": [
    {
     "name": "stdout",
     "output_type": "stream",
     "text": [
      "80 80 80 80 80 80 80 80 80 80\n",
      "DONE\n"
     ]
    }
   ],
   "source": [
    "columnTitles = {\n",
    "    \"Starting Interruption\": starting_interruption,\n",
    "    \"Starting Task\": starting_task,\n",
    "    \"Condition\": conditions,\n",
    "    \"Metric\": metric_description,\n",
    "    \"t (exp)\": t_exp,\n",
    "    \"p (exp)\": p_exp,\n",
    "    \"diff (exp)\": difference_exp,\n",
    "    \"t (control)\": t_control,\n",
    "    \"p (control)\": p_control,\n",
    "    \"diff (control)\": difference_control,\n",
    "    \"t (condition)\": t_condition, \n",
    "    \"p (condition)\": p_condition\n",
    "}\n",
    "\n",
    "print(len(starting_interruption), len(starting_task), len(conditions), len(metric_description), len(t_exp), len(p_exp), len(difference_exp), \n",
    "     len(t_control), len(p_control), len(difference_control))\n",
    "\n",
    "dataframe = pd.DataFrame(columnTitles)\n",
    "dataframe.to_csv('analysis.csv')\n",
    "print('DONE')"
   ]
  },
  {
   "cell_type": "markdown",
   "metadata": {},
   "source": [
    "### Accuracy when training on a novel task (H1)"
   ]
  },
  {
   "cell_type": "code",
   "execution_count": 44,
   "metadata": {},
   "outputs": [
    {
     "name": "stdout",
     "output_type": "stream",
     "text": [
      "\n",
      "-------------- PRIMARY TASKS --------------\n",
      "\n",
      "ACCURACY (any task): t=-0.5577497899123863, p=0.5780718551803312, d=-0.6875\n",
      "Participants  decreased [-] their accuracy to any primary task when experiencing a novel task.\n",
      "\n",
      "ACCURACY (draw): t=-2.4606837681822857, p=0.016865735716352644, d=-1.375\n",
      "Participants significantly [*] decreased [-] their accuracy to draw tasks when experiencing a novel task.\n",
      "\n",
      "ACCURACY (hanoi): t=4.831259039624397, p=1.0313531913676265e-05, d=6.666666666666667\n",
      "Participants extremely significantly [**] increased [+] their accuracy to hanoi tasks when experiencing a novel task.\n",
      "\n",
      "-------------- INTERRUPTING TASKS --------------\n",
      "\n",
      "ACCURACY (any interruption): t=-0.36344523622545444, p=0.7169226233183985, d=-0.008620976349999997\n",
      "Participants  decreased [-] their accuracy to any interrupting task when experiencing a novel task.\n",
      "\n",
      "ACCURACY (stroop): t=-0.7787795321459962, p=0.43927546079048363, d=-0.023238403766666672\n",
      "Participants  decreased [-] their accuracy to stroop tasks when experiencing a novel task.\n",
      "\n",
      "ACCURACY (math): t=0.1847242595791743, p=0.8540897221999603, d=0.005996451066666675\n",
      "Participants  increased [+] their accuracy to math tasks when experiencing a novel task.\n"
     ]
    }
   ],
   "source": [
    "print('\\n-------------- PRIMARY TASKS --------------')\n",
    "\n",
    "t_1_p_accuracy, p_1_p_accuracy, diff_1_p_accuracy = compute_improvement(\n",
    "    df_experimental[df_experimental['Condition'] == 1]['a_p_correctness'], \n",
    "    df_experimental[df_experimental['Condition'] == 1]['te_p_correctness'])\n",
    "print('\\nACCURACY (any task): t={t}, p={p}, d={d}'.format(t=t_1_p_accuracy, p=p_1_p_accuracy, d=diff_1_p_accuracy))\n",
    "print('Participants {significance} {change} their accuracy to any primary task when experiencing a novel task.'.format(\n",
    "    change=is_improvement(diff_1_p_accuracy), significance=is_significant(p_1_p_accuracy)))\n",
    "# entry.append(1, 'Accuracy', 'any task', t_1_p_accuracy, p_1_p_accuracy, diff_1_p_accuracy, '?', '?', '?')\n",
    "\n",
    "t_1_draw_accuracy, p_1_draw_accuracy, diff_1_draw_accuracy = compute_improvement(\n",
    "    df_experimental[(df_experimental['a_p_name'] == 'draw') & (df_experimental['Condition'] == 1)]['a_p_correctness'], \n",
    "    df_experimental[(df_experimental['a_p_name'] == 'draw') & (df_experimental['Condition'] == 1)]['te_p_correctness'])\n",
    "print('\\nACCURACY (draw): t={t}, p={p}, d={d}'.format(t=t_1_draw_accuracy, p=p_1_draw_accuracy, d=diff_1_draw_accuracy))\n",
    "print('Participants {significance} {change} their accuracy to draw tasks when experiencing a novel task.'.format(\n",
    "    change=is_improvement(diff_1_draw_accuracy), significance=is_significant(p_1_draw_accuracy)))\n",
    "\n",
    "t_1_hanoi_accuracy, p_1_hanoi_accuracy, diff_1_hanoi_accuracy = compute_improvement(\n",
    "    df_experimental[(df_experimental['a_p_name'] == 'hanoi') & (df_experimental['Condition'] == 1)]['a_p_movestotal'].astype(float), \n",
    "    df_experimental[(df_experimental['a_p_name'] == 'hanoi') & (df_experimental['Condition'] == 1)]['te_p_movestotal'].astype(float))\n",
    "print('\\nACCURACY (hanoi): t={t}, p={p}, d={d}'.format(t=t_1_hanoi_accuracy, p=p_1_hanoi_accuracy, d=diff_1_hanoi_accuracy))\n",
    "print('Participants {significance} {change} their accuracy to hanoi tasks when experiencing a novel task.'.format(\n",
    "    change=is_improvement(diff_1_hanoi_accuracy), significance=is_significant(p_1_hanoi_accuracy)))\n",
    "\n",
    "print('\\n-------------- INTERRUPTING TASKS --------------')\n",
    "t_1_i_accuracy, p_1_i_accuracy, diff_1_i_accuracy = compute_improvement(\n",
    "    df_experimental[df_experimental['Condition'] == 1]['a_i_percentage'], \n",
    "    df_experimental[df_experimental['Condition'] == 1]['te_i_percentage'])\n",
    "print('\\nACCURACY (any interruption): t={t}, p={p}, d={d}'.format(t=t_1_i_accuracy, p=p_1_i_accuracy, d=diff_1_i_accuracy))\n",
    "print('Participants {significance} {change} their accuracy to any interrupting task when experiencing a novel task.'.format(\n",
    "    change=is_improvement(diff_1_i_accuracy), significance=is_significant(p_1_i_accuracy)))\n",
    "\n",
    "t_1_stroop_accuracy, p_1_stroop_accuracy, diff_1_stroop_accuracy = compute_improvement(\n",
    "    df_experimental[(df_experimental['a_i_name'] == 'stroop') & (df_experimental['Condition'] == 1)]['a_i_percentage'], \n",
    "    df_experimental[(df_experimental['a_i_name'] == 'stroop') & (df_experimental['Condition'] == 1)]['te_i_percentage'])\n",
    "print('\\nACCURACY (stroop): t={t}, p={p}, d={d}'.format(t=t_1_stroop_accuracy, p=p_1_stroop_accuracy, d=diff_1_stroop_accuracy))\n",
    "print('Participants {significance} {change} their accuracy to stroop tasks when experiencing a novel task.'.format(\n",
    "    change=is_improvement(diff_1_stroop_accuracy), significance=is_significant(p_1_stroop_accuracy)))\n",
    "\n",
    "t_1_math_accuracy, p_1_math_accuracy, diff_1_math_accuracy = compute_improvement(\n",
    "    df_experimental[(df_experimental['a_i_name'] == 'math') & (df_experimental['Condition'] == 1)]['a_i_percentage'], \n",
    "    df_experimental[(df_experimental['a_i_name'] == 'math') & (df_experimental['Condition'] == 1)]['te_i_percentage'])\n",
    "print('\\nACCURACY (math): t={t}, p={p}, d={d}'.format(t=t_1_math_accuracy, p=p_1_math_accuracy, d=diff_1_math_accuracy))\n",
    "print('Participants {significance} {change} their accuracy to math tasks when experiencing a novel task.'.format(\n",
    "    change=is_improvement(diff_1_math_accuracy), significance=is_significant(p_1_math_accuracy)))"
   ]
  },
  {
   "cell_type": "markdown",
   "metadata": {},
   "source": [
    "### Speed when training on a novel task (H1)"
   ]
  },
  {
   "cell_type": "code",
   "execution_count": 35,
   "metadata": {},
   "outputs": [
    {
     "name": "stdout",
     "output_type": "stream",
     "text": [
      "\n",
      "-------------- PRIMARY TASKS --------------\n",
      "\n",
      "TIME SPENT (any task): t=-0.46106229246582864, p=0.6456026098418916, d=-15.335940557283328\n",
      "Participants  decreased [-] their time spent on any primary task when experiencing a novel task.\n",
      "\n",
      "TIME SPENT (draw): t=1.246611190230453, p=0.2175512913090282, d=0.8842440354333334\n",
      "Participants  increased [+] their time spent on draw tasks when experiencing a novel task.\n",
      "\n",
      "TIME SPENT (hanoi): t=-1.0546828016141816, p=0.29594416445440286, d=-31.556125149999996\n",
      "Participants  decreased [-] their time spent on hanoi tasks when experiencing a novel task.\n",
      "\n",
      "-------------- INTERRUPTING TASKS --------------\n",
      "\n",
      "TIME SPENT (any interruption): t=3.300562239401442, p=0.001276584850755555, d=0.5711673156333331\n",
      "Participants extremely significantly [**] increased [+] their time spent on any interrupting task when experiencing a novel task.\n",
      "\n",
      "TIME SPENT (stroop): t=1.9311870212040623, p=0.05835186563267865, d=0.32739281459999997\n",
      "Participants  increased [+] their time spent on stroop tasks when experiencing a novel task.\n",
      "\n",
      "TIME SPENT (math): t=3.1953349097609243, p=0.0022603518278985287, d=0.8149418166666667\n",
      "Participants extremely significantly [**] increased [+] their time spent on math tasks when experiencing a novel task.\n"
     ]
    }
   ],
   "source": [
    "print('\\n-------------- PRIMARY TASKS --------------')\n",
    "\n",
    "t_1_p_speed, p_1_p_speed, diff_1_p_speed = compute_improvement(\n",
    "    df_experimental[df_experimental['Condition'] == 1]['a_p_time'], \n",
    "    df_experimental[df_experimental['Condition'] == 1]['te_p_time'])\n",
    "print('\\nTIME SPENT (any task): t={t}, p={p}, d={d}'.format(t=t_1_p_speed, p=p_1_p_speed, d=diff_1_p_speed))\n",
    "print('Participants {significance} {change} their time spent on any primary task when experiencing a novel task.'.format(\n",
    "    change=is_improvement(diff_1_p_speed), significance=is_significant(p_1_p_speed)))\n",
    "\n",
    "t_1_draw_speed, p_1_draw_speed, diff_1_draw_speed = compute_improvement(\n",
    "    df_experimental[(df_experimental['a_p_name'] == 'draw') & (df_experimental['Condition'] == 1)]['a_p_time'], \n",
    "    df_experimental[(df_experimental['a_p_name'] == 'draw') & (df_experimental['Condition'] == 1)]['te_p_time'])\n",
    "print('\\nTIME SPENT (draw): t={t}, p={p}, d={d}'.format(t=t_1_draw_speed, p=p_1_draw_speed, d=diff_1_draw_speed))\n",
    "print('Participants {significance} {change} their time spent on draw tasks when experiencing a novel task.'.format(\n",
    "    change=is_improvement(diff_1_draw_speed), significance=is_significant(p_1_draw_speed)))\n",
    "\n",
    "t_1_hanoi_speed, p_1_hanoi_speed, diff_1_hanoi_speed = compute_improvement(\n",
    "    df_experimental[(df_experimental['a_p_name'] == 'hanoi') & (df_experimental['Condition'] == 1)]['a_p_time'].astype(float), \n",
    "    df_experimental[(df_experimental['a_p_name'] == 'hanoi') & (df_experimental['Condition'] == 1)]['te_p_time'].astype(float))\n",
    "print('\\nTIME SPENT (hanoi): t={t}, p={p}, d={d}'.format(t=t_1_hanoi_speed, p=p_1_hanoi_speed, d=diff_1_hanoi_speed))\n",
    "print('Participants {significance} {change} their time spent on hanoi tasks when experiencing a novel task.'.format(\n",
    "    change=is_improvement(diff_1_hanoi_speed), significance=is_significant(p_1_hanoi_speed)))\n",
    "\n",
    "print('\\n-------------- INTERRUPTING TASKS --------------')\n",
    "t_1_i_speed, p_1_i_speed, diff_1_i_speed = compute_improvement(\n",
    "    df_experimental[df_experimental['Condition'] == 1]['a_i_time'], \n",
    "    df_experimental[df_experimental['Condition'] == 1]['te_i_time'])\n",
    "print('\\nTIME SPENT (any interruption): t={t}, p={p}, d={d}'.format(t=t_1_i_speed, p=p_1_i_speed, d=diff_1_i_speed))\n",
    "print('Participants {significance} {change} their time spent on any interrupting task when experiencing a novel task.'.format(\n",
    "    change=is_improvement(diff_1_i_speed), significance=is_significant(p_1_i_speed)))\n",
    "\n",
    "t_1_stroop_speed, p_1_stroop_speed, diff_1_stroop_speed = compute_improvement(\n",
    "    df_experimental[(df_experimental['a_i_name'] == 'stroop') & (df_experimental['Condition'] == 1)]['a_i_time'], \n",
    "    df_experimental[(df_experimental['a_i_name'] == 'stroop') & (df_experimental['Condition'] == 1)]['te_i_time'])\n",
    "print('\\nTIME SPENT (stroop): t={t}, p={p}, d={d}'.format(t=t_1_stroop_speed, p=p_1_stroop_speed, d=diff_1_stroop_speed))\n",
    "print('Participants {significance} {change} their time spent on stroop tasks when experiencing a novel task.'.format(\n",
    "    change=is_improvement(diff_1_stroop_speed), significance=is_significant(p_1_stroop_speed)))\n",
    "\n",
    "t_1_math_speed, p_1_math_speed, diff_1_math_speed = compute_improvement(\n",
    "    df_experimental[(df_experimental['a_i_name'] == 'math') & (df_experimental['Condition'] == 1)]['a_i_time'], \n",
    "    df_experimental[(df_experimental['a_i_name'] == 'math') & (df_experimental['Condition'] == 1)]['te_i_time'])\n",
    "print('\\nTIME SPENT (math): t={t}, p={p}, d={d}'.format(t=t_1_math_speed, p=p_1_math_speed, d=diff_1_math_speed))\n",
    "print('Participants {significance} {change} their time spent on math tasks when experiencing a novel task.'.format(\n",
    "    change=is_improvement(diff_1_math_speed), significance=is_significant(p_1_math_speed)))"
   ]
  },
  {
   "cell_type": "markdown",
   "metadata": {},
   "source": [
    "### Resumption lag when training on a novel task (H1)"
   ]
  },
  {
   "cell_type": "code",
   "execution_count": 36,
   "metadata": {},
   "outputs": [
    {
     "name": "stdout",
     "output_type": "stream",
     "text": [
      "\n",
      "RESUMPTION LAG (any task): t=2.2930244403863895, p=0.023617403154520048, d=1.845040583883334\n",
      "Participants significantly [*] increased [+] their resumption lag on any primary task when experiencing a novel task.\n",
      "\n",
      "RESUMPTION LAG (draw): t=1.9964666632162804, p=0.05058427603385491, d=1.6727526028666664\n",
      "Participants  increased [+] their resumption lag on draw tasks when experiencing a novel task.\n",
      "\n",
      "RESUMPTION LAG (hanoi): t=7.2267123856839754, p=1.2192483649980985e-09, d=2.0173285648999997\n",
      "Participants extremely significantly [**] increased [+] their resumption lag on hanoi tasks when experiencing a novel task.\n"
     ]
    }
   ],
   "source": [
    "t_1_p_resumption, p_1_p_resumption, diff_1_p_resumption = compute_improvement(\n",
    "    df_experimental[df_experimental['Condition'] == 1]['a_p_resumption'], \n",
    "    df_experimental[df_experimental['Condition'] == 1]['te_p_resumption'])\n",
    "print('\\nRESUMPTION LAG (any task): t={t}, p={p}, d={d}'.format(t=t_1_p_resumption, p=p_1_p_resumption, d=diff_1_p_resumption))\n",
    "print('Participants {significance} {change} their resumption lag on any primary task when experiencing a novel task.'.format(\n",
    "    change=is_improvement(diff_1_p_resumption), significance=is_significant(p_1_p_resumption)))\n",
    "\n",
    "t_1_draw_resumption, p_1_draw_resumption, diff_1_draw_resumption = compute_improvement(\n",
    "    df_experimental[(df_experimental['a_p_name'] == 'draw') & (df_experimental['Condition'] == 1)]['a_p_resumption'], \n",
    "    df_experimental[(df_experimental['a_p_name'] == 'draw') & (df_experimental['Condition'] == 1)]['te_p_resumption'])\n",
    "print('\\nRESUMPTION LAG (draw): t={t}, p={p}, d={d}'.format(t=t_1_draw_resumption, p=p_1_draw_resumption, d=diff_1_draw_resumption))\n",
    "print('Participants {significance} {change} their resumption lag on draw tasks when experiencing a novel task.'.format(\n",
    "    change=is_improvement(diff_1_draw_resumption), significance=is_significant(p_1_draw_resumption)))\n",
    "\n",
    "t_1_hanoi_resumption, p_1_hanoi_resumption, diff_1_hanoi_resumption = compute_improvement(\n",
    "    df_experimental[(df_experimental['a_p_name'] == 'hanoi') & (df_experimental['Condition'] == 1)]['a_p_resumption'].astype(float), \n",
    "    df_experimental[(df_experimental['a_p_name'] == 'hanoi') & (df_experimental['Condition'] == 1)]['te_p_resumption'].astype(float))\n",
    "print('\\nRESUMPTION LAG (hanoi): t={t}, p={p}, d={d}'.format(t=t_1_hanoi_resumption, p=p_1_hanoi_resumption, d=diff_1_hanoi_resumption))\n",
    "print('Participants {significance} {change} their resumption lag on hanoi tasks when experiencing a novel task.'.format(\n",
    "    change=is_improvement(diff_1_hanoi_resumption), significance=is_significant(p_1_hanoi_resumption)))"
   ]
  },
  {
   "cell_type": "markdown",
   "metadata": {},
   "source": [
    "### Interruption lag when training on a novel task (H1)"
   ]
  },
  {
   "cell_type": "code",
   "execution_count": 37,
   "metadata": {},
   "outputs": [
    {
     "name": "stdout",
     "output_type": "stream",
     "text": [
      "\n",
      "INTERRUPTION LAG (any task): t=0.9101713617658861, p=0.3645875823917081, d=0.8708594790000003\n",
      "Participants  increased [+] their interruption lag on any primary task when experiencing a novel task.\n",
      "\n",
      "INTERRUPTION LAG (draw): t=12.456026246881779, p=4.920820959342511e-18, d=8.8668473632\n",
      "Participants extremely significantly [**] increased [+] their interruption lag on draw tasks when experiencing a novel task.\n",
      "\n",
      "INTERRUPTION LAG (hanoi): t=-7.162840546707094, p=1.5611825671722767e-09, d=-7.125128405200002\n",
      "Participants extremely significantly [**] decreased [-] their interruption lag on hanoi tasks when experiencing a novel task.\n"
     ]
    }
   ],
   "source": [
    "t_1_p_interruption, p_1_p_interruption, diff_1_p_interruption = compute_improvement(\n",
    "    df_experimental[df_experimental['Condition'] == 1]['a_p_moveinterruptedtime'], \n",
    "    df_experimental[df_experimental['Condition'] == 1]['te_p_moveinterruptedtime'])\n",
    "print('\\nINTERRUPTION LAG (any task): t={t}, p={p}, d={d}'.format(t=t_1_p_interruption, p=p_1_p_interruption, d=diff_1_p_interruption))\n",
    "print('Participants {significance} {change} their interruption lag on any primary task when experiencing a novel task.'.format(\n",
    "    change=is_improvement(diff_1_p_interruption), significance=is_significant(p_1_p_interruption)))\n",
    "\n",
    "t_1_draw_interruption, p_1_draw_interruption, diff_1_draw_interruption = compute_improvement(\n",
    "    df_experimental[(df_experimental['a_p_name'] == 'draw') & (df_experimental['Condition'] == 1)]['a_p_moveinterruptedtime'], \n",
    "    df_experimental[(df_experimental['a_p_name'] == 'draw') & (df_experimental['Condition'] == 1)]['te_p_moveinterruptedtime'])\n",
    "print('\\nINTERRUPTION LAG (draw): t={t}, p={p}, d={d}'.format(t=t_1_draw_interruption, p=p_1_draw_interruption, d=diff_1_draw_interruption))\n",
    "print('Participants {significance} {change} their interruption lag on draw tasks when experiencing a novel task.'.format(\n",
    "    change=is_improvement(diff_1_draw_interruption), significance=is_significant(p_1_draw_interruption)))\n",
    "\n",
    "t_1_hanoi_interruption, p_1_hanoi_interruption, diff_1_hanoi_interruption = compute_improvement(\n",
    "    df_experimental[(df_experimental['a_p_name'] == 'hanoi') & (df_experimental['Condition'] == 1)]['a_p_moveinterruptedtime'].astype(float), \n",
    "    df_experimental[(df_experimental['a_p_name'] == 'hanoi') & (df_experimental['Condition'] == 1)]['te_p_moveinterruptedtime'].astype(float))\n",
    "print('\\nINTERRUPTION LAG (hanoi): t={t}, p={p}, d={d}'.format(t=t_1_hanoi_interruption, p=p_1_hanoi_interruption, d=diff_1_hanoi_interruption))\n",
    "print('Participants {significance} {change} their interruption lag on hanoi tasks when experiencing a novel task.'.format(\n",
    "    change=is_improvement(diff_1_hanoi_interruption), significance=is_significant(p_1_hanoi_interruption)))"
   ]
  },
  {
   "cell_type": "markdown",
   "metadata": {},
   "source": [
    "### Accuracy when training on a novel interruption (H2)"
   ]
  },
  {
   "cell_type": "code",
   "execution_count": 38,
   "metadata": {},
   "outputs": [
    {
     "name": "stdout",
     "output_type": "stream",
     "text": [
      "\n",
      "-------------- PRIMARY TASKS --------------\n",
      "\n",
      "ACCURACY (any task): t=-0.2706309263359828, p=0.7870976132110894, d=-0.30970149253731344\n",
      "Participants  decreased [-] their accuracy to any primary task when experiencing a novel interruption.\n",
      "\n",
      "ACCURACY (draw): t=-1.0444204546317966, p=0.30048062300931905, d=-0.6693548387096774\n",
      "Participants  decreased [-] their accuracy to draw tasks when experiencing a novel interruption.\n",
      "\n",
      "ACCURACY (hanoi): t=3.941534602302787, p=0.00018949238160283379, d=4.559027777777778\n",
      "Participants extremely significantly [**] increased [+] their accuracy to hanoi tasks when experiencing a novel interruption.\n",
      "\n",
      "-------------- INTERRUPTING TASKS --------------\n",
      "\n",
      "ACCURACY (any interruption): t=1.2730003338696176, p=0.20525537576945876, d=0.023388905731343255\n",
      "Participants  increased [+] their accuracy to any interrupting task when experiencing a novel interruption.\n",
      "\n",
      "ACCURACY (stroop): t=0.30350928758264595, p=0.7624020433952218, d=0.004135658499999976\n",
      "Participants  increased [+] their accuracy to stroop tasks when experiencing a novel interruption.\n",
      "\n",
      "ACCURACY (math): t=1.5076369671815564, p=0.1368951062446173, d=0.04574751541935483\n",
      "Participants  increased [+] their accuracy to math tasks when experiencing a novel interruption.\n"
     ]
    }
   ],
   "source": [
    "print('\\n-------------- PRIMARY TASKS --------------')\n",
    "\n",
    "t_2_p_accuracy, p_2_p_accuracy, diff_2_p_accuracy = compute_improvement(\n",
    "    df_experimental[df_experimental['Condition'] == 2]['a_p_correctness'], \n",
    "    df_experimental[df_experimental['Condition'] == 2]['te_p_correctness'])\n",
    "print('\\nACCURACY (any task): t={t}, p={p}, d={d}'.format(t=t_2_p_accuracy, p=p_2_p_accuracy, d=diff_2_p_accuracy))\n",
    "print('Participants {significance} {change} their accuracy to any primary task when experiencing a novel interruption.'.format(\n",
    "    change=is_improvement(diff_2_p_accuracy), significance=is_significant(p_2_p_accuracy)))\n",
    "\n",
    "t_2_draw_accuracy, p_2_draw_accuracy, diff_2_draw_accuracy = compute_improvement(\n",
    "    df_experimental[(df_experimental['a_p_name'] == 'draw') & (df_experimental['Condition'] == 2)]['a_p_correctness'], \n",
    "    df_experimental[(df_experimental['a_p_name'] == 'draw') & (df_experimental['Condition'] == 2)]['te_p_correctness'])\n",
    "print('\\nACCURACY (draw): t={t}, p={p}, d={d}'.format(t=t_2_draw_accuracy, p=p_2_draw_accuracy, d=diff_2_draw_accuracy))\n",
    "print('Participants {significance} {change} their accuracy to draw tasks when experiencing a novel interruption.'.format(\n",
    "    change=is_improvement(diff_2_draw_accuracy), significance=is_significant(p_2_draw_accuracy)))\n",
    "\n",
    "t_2_hanoi_accuracy, p_2_hanoi_accuracy, diff_2_hanoi_accuracy = compute_improvement(\n",
    "    df_experimental[(df_experimental['a_p_name'] == 'hanoi') & (df_experimental['Condition'] == 2)]['a_p_movestotal'].astype(float), \n",
    "    df_experimental[(df_experimental['a_p_name'] == 'hanoi') & (df_experimental['Condition'] == 2)]['te_p_movestotal'].astype(float))\n",
    "print('\\nACCURACY (hanoi): t={t}, p={p}, d={d}'.format(t=t_2_hanoi_accuracy, p=p_2_hanoi_accuracy, d=diff_2_hanoi_accuracy))\n",
    "print('Participants {significance} {change} their accuracy to hanoi tasks when experiencing a novel interruption.'.format(\n",
    "    change=is_improvement(diff_2_hanoi_accuracy), significance=is_significant(p_2_hanoi_accuracy)))\n",
    "\n",
    "print('\\n-------------- INTERRUPTING TASKS --------------')\n",
    "t_2_i_accuracy, p_2_i_accuracy, diff_2_i_accuracy = compute_improvement(\n",
    "    df_experimental[df_experimental['Condition'] == 2]['a_i_percentage'], \n",
    "    df_experimental[df_experimental['Condition'] == 2]['te_i_percentage'])\n",
    "print('\\nACCURACY (any interruption): t={t}, p={p}, d={d}'.format(t=t_2_i_accuracy, p=p_2_i_accuracy, d=diff_2_i_accuracy))\n",
    "print('Participants {significance} {change} their accuracy to any interrupting task when experiencing a novel interruption.'.format(\n",
    "    change=is_improvement(diff_2_i_accuracy), significance=is_significant(p_2_i_accuracy)))\n",
    "\n",
    "t_2_stroop_accuracy, p_2_stroop_accuracy, diff_2_stroop_accuracy = compute_improvement(\n",
    "    df_experimental[(df_experimental['a_i_name'] == 'stroop') & (df_experimental['Condition'] == 2)]['a_i_percentage'], \n",
    "    df_experimental[(df_experimental['a_i_name'] == 'stroop') & (df_experimental['Condition'] == 2)]['te_i_percentage'])\n",
    "print('\\nACCURACY (stroop): t={t}, p={p}, d={d}'.format(t=t_2_stroop_accuracy, p=p_2_stroop_accuracy, d=diff_2_stroop_accuracy))\n",
    "print('Participants {significance} {change} their accuracy to stroop tasks when experiencing a novel interruption.'.format(\n",
    "    change=is_improvement(diff_2_stroop_accuracy), significance=is_significant(p_2_stroop_accuracy)))\n",
    "\n",
    "t_2_math_accuracy, p_2_math_accuracy, diff_2_math_accuracy = compute_improvement(\n",
    "    df_experimental[(df_experimental['a_i_name'] == 'math') & (df_experimental['Condition'] == 2)]['a_i_percentage'], \n",
    "    df_experimental[(df_experimental['a_i_name'] == 'math') & (df_experimental['Condition'] == 2)]['te_i_percentage'])\n",
    "print('\\nACCURACY (math): t={t}, p={p}, d={d}'.format(t=t_2_math_accuracy, p=p_2_math_accuracy, d=diff_2_math_accuracy))\n",
    "print('Participants {significance} {change} their accuracy to math tasks when experiencing a novel interruption.'.format(\n",
    "    change=is_improvement(diff_2_math_accuracy), significance=is_significant(p_2_math_accuracy)))"
   ]
  },
  {
   "cell_type": "markdown",
   "metadata": {},
   "source": [
    "### Speed when training on a novel interruption (H2)"
   ]
  },
  {
   "cell_type": "code",
   "execution_count": 39,
   "metadata": {},
   "outputs": [
    {
     "name": "stdout",
     "output_type": "stream",
     "text": [
      "\n",
      "-------------- PRIMARY TASKS --------------\n",
      "\n",
      "TIME SPENT (any task): t=-0.6070174818941079, p=0.5448820167517792, d=-20.35177128347762\n",
      "Participants  decreased [-] their time spent on any primary task when experiencing a novel interruption.\n",
      "\n",
      "TIME SPENT (draw): t=1.7309862302473986, p=0.08859416555004096, d=1.1235444873225806\n",
      "Participants  increased [+] their time spent on draw tasks when experiencing a novel interruption.\n",
      "\n",
      "TIME SPENT (hanoi): t=-1.1491282767255362, p=0.2544144149258241, d=-38.84440430833334\n",
      "Participants  decreased [-] their time spent on hanoi tasks when experiencing a novel interruption.\n",
      "\n",
      "-------------- INTERRUPTING TASKS --------------\n",
      "\n",
      "TIME SPENT (any interruption): t=2.609236678985934, p=0.010121612898473121, d=0.4045483994328359\n",
      "Participants significantly [*] increased [+] their time spent on any interrupting task when experiencing a novel interruption.\n",
      "\n",
      "TIME SPENT (stroop): t=2.8758232228003062, p=0.005335551874903006, d=0.2854687288611111\n",
      "Participants significantly [*] increased [+] their time spent on stroop tasks when experiencing a novel interruption.\n",
      "\n",
      "TIME SPENT (math): t=2.214441740735329, p=0.030608370106237837, d=0.5428344684838711\n",
      "Participants significantly [*] increased [+] their time spent on math tasks when experiencing a novel interruption.\n"
     ]
    }
   ],
   "source": [
    "print('\\n-------------- PRIMARY TASKS --------------')\n",
    "\n",
    "t_2_p_speed, p_2_p_speed, diff_2_p_speed = compute_improvement(\n",
    "    df_experimental[df_experimental['Condition'] == 2]['a_p_time'], \n",
    "    df_experimental[df_experimental['Condition'] == 2]['te_p_time'])\n",
    "print('\\nTIME SPENT (any task): t={t}, p={p}, d={d}'.format(t=t_2_p_speed, p=p_2_p_speed, d=diff_2_p_speed))\n",
    "print('Participants {significance} {change} their time spent on any primary task when experiencing a novel interruption.'.format(\n",
    "    change=is_improvement(diff_2_p_speed), significance=is_significant(p_2_p_speed)))\n",
    "\n",
    "t_2_draw_speed, p_2_draw_speed, diff_2_draw_speed = compute_improvement(\n",
    "    df_experimental[(df_experimental['a_p_name'] == 'draw') & (df_experimental['Condition'] == 2)]['a_p_time'], \n",
    "    df_experimental[(df_experimental['a_p_name'] == 'draw') & (df_experimental['Condition'] == 2)]['te_p_time'])\n",
    "print('\\nTIME SPENT (draw): t={t}, p={p}, d={d}'.format(t=t_2_draw_speed, p=p_2_draw_speed, d=diff_2_draw_speed))\n",
    "print('Participants {significance} {change} their time spent on draw tasks when experiencing a novel interruption.'.format(\n",
    "    change=is_improvement(diff_2_draw_speed), significance=is_significant(p_2_draw_speed)))\n",
    "\n",
    "t_2_hanoi_speed, p_2_hanoi_speed, diff_2_hanoi_speed = compute_improvement(\n",
    "    df_experimental[(df_experimental['a_p_name'] == 'hanoi') & (df_experimental['Condition'] == 2)]['a_p_time'].astype(float), \n",
    "    df_experimental[(df_experimental['a_p_name'] == 'hanoi') & (df_experimental['Condition'] == 2)]['te_p_time'].astype(float))\n",
    "print('\\nTIME SPENT (hanoi): t={t}, p={p}, d={d}'.format(t=t_2_hanoi_speed, p=p_2_hanoi_speed, d=diff_2_hanoi_speed))\n",
    "print('Participants {significance} {change} their time spent on hanoi tasks when experiencing a novel interruption.'.format(\n",
    "    change=is_improvement(diff_2_hanoi_speed), significance=is_significant(p_2_hanoi_speed)))\n",
    "\n",
    "print('\\n-------------- INTERRUPTING TASKS --------------')\n",
    "t_2_i_speed, p_2_i_speed, diff_2_i_speed = compute_improvement(\n",
    "    df_experimental[df_experimental['Condition'] == 2]['a_i_time'], \n",
    "    df_experimental[df_experimental['Condition'] == 2]['te_i_time'])\n",
    "print('\\nTIME SPENT (any interruption): t={t}, p={p}, d={d}'.format(t=t_2_i_speed, p=p_2_i_speed, d=diff_2_i_speed))\n",
    "print('Participants {significance} {change} their time spent on any interrupting task when experiencing a novel interruption.'.format(\n",
    "    change=is_improvement(diff_2_i_speed), significance=is_significant(p_2_i_speed)))\n",
    "\n",
    "t_2_stroop_speed, p_2_stroop_speed, diff_2_stroop_speed = compute_improvement(\n",
    "    df_experimental[(df_experimental['a_i_name'] == 'stroop') & (df_experimental['Condition'] == 2)]['a_i_time'], \n",
    "    df_experimental[(df_experimental['a_i_name'] == 'stroop') & (df_experimental['Condition'] == 2)]['te_i_time'])\n",
    "print('\\nTIME SPENT (stroop): t={t}, p={p}, d={d}'.format(t=t_2_stroop_speed, p=p_2_stroop_speed, d=diff_2_stroop_speed))\n",
    "print('Participants {significance} {change} their time spent on stroop tasks when experiencing a novel interruption.'.format(\n",
    "    change=is_improvement(diff_2_stroop_speed), significance=is_significant(p_2_stroop_speed)))\n",
    "\n",
    "t_2_math_speed, p_2_math_speed, diff_2_math_speed = compute_improvement(\n",
    "    df_experimental[(df_experimental['a_i_name'] == 'math') & (df_experimental['Condition'] == 2)]['a_i_time'], \n",
    "    df_experimental[(df_experimental['a_i_name'] == 'math') & (df_experimental['Condition'] == 2)]['te_i_time'])\n",
    "print('\\nTIME SPENT (math): t={t}, p={p}, d={d}'.format(t=t_2_math_speed, p=p_2_math_speed, d=diff_2_math_speed))\n",
    "print('Participants {significance} {change} their time spent on math tasks when experiencing a novel interruption.'.format(\n",
    "    change=is_improvement(diff_2_math_speed), significance=is_significant(p_2_math_speed)))"
   ]
  },
  {
   "cell_type": "markdown",
   "metadata": {},
   "source": [
    "### Resumption lag when training on a novel interruption (H2)"
   ]
  },
  {
   "cell_type": "code",
   "execution_count": 40,
   "metadata": {},
   "outputs": [
    {
     "name": "stdout",
     "output_type": "stream",
     "text": [
      "\n",
      "RESUMPTION LAG (any task): t=3.458550046493689, p=0.0007315639618033416, d=2.3348994205671647\n",
      "Participants extremely significantly [**] increased [+] their resumption lag on any primary task when experiencing a novel interruption.\n",
      "\n",
      "RESUMPTION LAG (draw): t=2.982893010624936, p=0.004123534626083591, d=2.0889182728064517\n",
      "Participants extremely significantly [**] increased [+] their resumption lag on draw tasks when experiencing a novel interruption.\n",
      "\n",
      "RESUMPTION LAG (hanoi): t=8.218261495352612, p=7.238731309800765e-12, d=2.5467165200277777\n",
      "Participants extremely significantly [**] increased [+] their resumption lag on hanoi tasks when experiencing a novel interruption.\n"
     ]
    }
   ],
   "source": [
    "t_2_p_resumption, p_2_p_resumption, diff_2_p_resumption = compute_improvement(\n",
    "    df_experimental[df_experimental['Condition'] == 2]['a_p_resumption'], \n",
    "    df_experimental[df_experimental['Condition'] == 2]['te_p_resumption'])\n",
    "print('\\nRESUMPTION LAG (any task): t={t}, p={p}, d={d}'.format(t=t_2_p_resumption, p=p_2_p_resumption, d=diff_2_p_resumption))\n",
    "print('Participants {significance} {change} their resumption lag on any primary task when experiencing a novel interruption.'.format(\n",
    "    change=is_improvement(diff_2_p_resumption), significance=is_significant(p_2_p_resumption)))\n",
    "\n",
    "t_2_draw_resumption, p_2_draw_resumption, diff_2_draw_resumption = compute_improvement(\n",
    "    df_experimental[(df_experimental['a_p_name'] == 'draw') & (df_experimental['Condition'] == 2)]['a_p_resumption'], \n",
    "    df_experimental[(df_experimental['a_p_name'] == 'draw') & (df_experimental['Condition'] == 2)]['te_p_resumption'])\n",
    "print('\\nRESUMPTION LAG (draw): t={t}, p={p}, d={d}'.format(t=t_2_draw_resumption, p=p_2_draw_resumption, d=diff_2_draw_resumption))\n",
    "print('Participants {significance} {change} their resumption lag on draw tasks when experiencing a novel interruption.'.format(\n",
    "    change=is_improvement(diff_2_draw_resumption), significance=is_significant(p_2_draw_resumption)))\n",
    "\n",
    "t_2_hanoi_resumption, p_2_hanoi_resumption, diff_2_hanoi_resumption = compute_improvement(\n",
    "    df_experimental[(df_experimental['a_p_name'] == 'hanoi') & (df_experimental['Condition'] == 2)]['a_p_resumption'].astype(float), \n",
    "    df_experimental[(df_experimental['a_p_name'] == 'hanoi') & (df_experimental['Condition'] == 2)]['te_p_resumption'].astype(float))\n",
    "print('\\nRESUMPTION LAG (hanoi): t={t}, p={p}, d={d}'.format(t=t_2_hanoi_resumption, p=p_2_hanoi_resumption, d=diff_2_hanoi_resumption))\n",
    "print('Participants {significance} {change} their resumption lag on hanoi tasks when experiencing a novel interruption.'.format(\n",
    "    change=is_improvement(diff_2_hanoi_resumption), significance=is_significant(p_2_hanoi_resumption)))"
   ]
  },
  {
   "cell_type": "markdown",
   "metadata": {},
   "source": [
    "### Interruption lag when training on a novel interruption (H2)"
   ]
  },
  {
   "cell_type": "code",
   "execution_count": 41,
   "metadata": {},
   "outputs": [
    {
     "name": "stdout",
     "output_type": "stream",
     "text": [
      "\n",
      "INTERRUPTION LAG (any task): t=3.4805980698582997, p=0.0006785948905805176, d=2.3277089995522386\n",
      "Participants extremely significantly [**] increased [+] their interruption lag on any primary task when experiencing a novel interruption.\n",
      "\n",
      "INTERRUPTION LAG (draw): t=3.111220493472856, p=0.0028511983446629597, d=2.110305370548387\n",
      "Participants extremely significantly [**] increased [+] their interruption lag on draw tasks when experiencing a novel interruption.\n",
      "\n",
      "INTERRUPTION LAG (hanoi): t=8.032329582869417, p=1.5927570945094394e-11, d=2.5149176800833337\n",
      "Participants extremely significantly [**] increased [+] their interruption lag on hanoi tasks when experiencing a novel interruption.\n"
     ]
    }
   ],
   "source": [
    "t_2_p_interruption, p_2_p_interruption, diff_2_p_interruption = compute_improvement(\n",
    "    df_experimental[df_experimental['Condition'] == 2]['a_p_moveinterruptedtime'], \n",
    "    df_experimental[df_experimental['Condition'] == 2]['te_p_moveinterruptedtime'])\n",
    "print('\\nINTERRUPTION LAG (any task): t={t}, p={p}, d={d}'.format(t=t_2_p_interruption, p=p_2_p_interruption, d=diff_2_p_interruption))\n",
    "print('Participants {significance} {change} their interruption lag on any primary task when experiencing a novel interruption.'.format(\n",
    "    change=is_improvement(diff_2_p_interruption), significance=is_significant(p_2_p_interruption)))\n",
    "\n",
    "t_2_draw_interruption, p_2_draw_interruption, diff_2_draw_interruption = compute_improvement(\n",
    "    df_experimental[(df_experimental['a_p_name'] == 'draw') & (df_experimental['Condition'] == 2)]['a_p_moveinterruptedtime'], \n",
    "    df_experimental[(df_experimental['a_p_name'] == 'draw') & (df_experimental['Condition'] == 2)]['te_p_moveinterruptedtime'])\n",
    "print('\\nINTERRUPTION LAG (draw): t={t}, p={p}, d={d}'.format(t=t_2_draw_interruption, p=p_2_draw_interruption, d=diff_2_draw_interruption))\n",
    "print('Participants {significance} {change} their interruption lag on draw tasks when experiencing a novel interruption.'.format(\n",
    "    change=is_improvement(diff_2_draw_interruption), significance=is_significant(p_2_draw_interruption)))\n",
    "\n",
    "t_2_hanoi_interruption, p_2_hanoi_interruption, diff_2_hanoi_interruption = compute_improvement(\n",
    "    df_experimental[(df_experimental['a_p_name'] == 'hanoi') & (df_experimental['Condition'] == 2)]['a_p_moveinterruptedtime'].astype(float), \n",
    "    df_experimental[(df_experimental['a_p_name'] == 'hanoi') & (df_experimental['Condition'] == 2)]['te_p_moveinterruptedtime'].astype(float))\n",
    "print('\\nINTERRUPTION LAG (hanoi): t={t}, p={p}, d={d}'.format(t=t_2_hanoi_interruption, p=p_2_hanoi_interruption, d=diff_2_hanoi_interruption))\n",
    "print('Participants {significance} {change} their interruption lag on hanoi tasks when experiencing a novel interruption.'.format(\n",
    "    change=is_improvement(diff_2_hanoi_interruption), significance=is_significant(p_2_hanoi_interruption)))"
   ]
  },
  {
   "cell_type": "code",
   "execution_count": null,
   "metadata": {},
   "outputs": [],
   "source": []
  }
 ],
 "metadata": {
  "kernelspec": {
   "display_name": "Python 3",
   "language": "python",
   "name": "python3"
  },
  "language_info": {
   "codemirror_mode": {
    "name": "ipython",
    "version": 3
   },
   "file_extension": ".py",
   "mimetype": "text/x-python",
   "name": "python",
   "nbconvert_exporter": "python",
   "pygments_lexer": "ipython3",
   "version": "3.8.5"
  }
 },
 "nbformat": 4,
 "nbformat_minor": 4
}
